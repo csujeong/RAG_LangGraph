{
 "cells": [
  {
   "cell_type": "markdown",
   "id": "6fa6fb7f",
   "metadata": {},
   "source": [
    "# 부족한 정보를 검색하여 Context 보강\n",
    "\n",
    "**절차**\n",
    "\n",
    "1. 전통적인 RAG 를 수행\n",
    "2. 검색된 문서에 답변에 필요한 정보가 부족한 경우 -> “웹 검색”을 위한 쿼리 재작성\n",
    "3. “웹 검색” 으로 보충된 정보로 답변 도출 시도\n",
    "4. 새로운 답변으로 관련성 체크 후 재조정/종료 진행"
   ]
  },
  {
   "cell_type": "code",
   "execution_count": 56,
   "id": "064d5c8c",
   "metadata": {},
   "outputs": [
    {
     "data": {
      "text/plain": [
       "True"
      ]
     },
     "execution_count": 56,
     "metadata": {},
     "output_type": "execute_result"
    }
   ],
   "source": [
    "# api key\n",
    "from dotenv import load_dotenv\n",
    "\n",
    "load_dotenv()"
   ]
  },
  {
   "cell_type": "code",
   "execution_count": 64,
   "id": "562b0043",
   "metadata": {},
   "outputs": [
    {
     "name": "stdout",
     "output_type": "stream",
     "text": [
      "LangSmith 추적을 시작합니다.\n",
      "[프로젝트명]\n",
      "CH17-LANGGRAPH\n"
     ]
    }
   ],
   "source": [
    "# LangSmith 추적을 설정합니다. https://smith.langchain.com\n",
    "# !pip install -qU langchain-teddynote\n",
    "from easy_langsmith import logging\n",
    "\n",
    "# 프로젝트 이름을 입력합니다.\n",
    "logging.langsmith(\"CH17-LANGGRAPH\")"
   ]
  },
  {
   "cell_type": "code",
   "execution_count": 67,
   "id": "f905df18",
   "metadata": {},
   "outputs": [],
   "source": [
    "from rag.pdf import PDFRetrievalChain\n",
    "\n",
    "pdf = PDFRetrievalChain([\"data/632480.pdf\"]).create_chain()\n",
    "pdf_retriever = pdf.retriever\n",
    "pdf_chain = pdf.chain"
   ]
  },
  {
   "cell_type": "markdown",
   "id": "d047f938",
   "metadata": {},
   "source": [
    "## GraphState\n",
    "\n",
    "각 노드에서 다음 노드로 전달되는 상태를 저장합니다."
   ]
  },
  {
   "cell_type": "code",
   "execution_count": 66,
   "id": "f19a3df5",
   "metadata": {},
   "outputs": [],
   "source": [
    "from typing import TypedDict\n",
    "\n",
    "# GraphState 상태를 저장하는 용도로 사용합니다.\n",
    "class GraphState(TypedDict):\n",
    "    question: str  # 질문\n",
    "    context: str  # 문서의 검색 결과\n",
    "    answer: str  # 답변\n",
    "    relevance: str  # 답변의 문서에 대한 관련성"
   ]
  },
  {
   "cell_type": "markdown",
   "id": "c56d4095",
   "metadata": {},
   "source": [
    "## 노드와 엣지\n",
    "\n",
    "우리는 agentic RAG 그래프를 다음과 같이 구성할 수 있습니다:\n",
    "\n",
    "- 상태는 메시지의 집합입니다\n",
    "- 각 노드는 상태를 업데이트(추가)합니다\n",
    "- 조건부 엣지는 다음에 방문할 노드를 결정합니다\n",
    "\n",
    "![](https://teddylee777.github.io/images/2024-03-06-langgraph-agentic-rag/nodes-and-edges.png)\n"
   ]
  },
  {
   "cell_type": "code",
   "execution_count": 60,
   "id": "9ef0c055",
   "metadata": {},
   "outputs": [],
   "source": [
    "from langchain_upstage import UpstageGroundednessCheck\n",
    "from langchain_core.prompts import ChatPromptTemplate\n",
    "from langchain_openai import ChatOpenAI\n",
    "from langchain_core.output_parsers import StrOutputParser\n",
    "from langchain_community.tools.tavily_search import TavilySearchResults\n",
    "import os\n",
    "from rag.utils import format_docs, format_searched_docs\n",
    "# 업스테이지 문서 관련성 체크 기능을 설정합니다. https://upstage.ai\n",
    "upstage_ground_checker = UpstageGroundednessCheck(api_key=os.getenv(\"UPSTAGE_API_KEY\", \"default_value\"))\n",
    "\n",
    "# 문서에서 검색하여 관련성 있는 문서를 찾습니다.\n",
    "def retrieve_document(state: GraphState) -> GraphState:\n",
    "    # 문서에서 검색하여 관련성 있는 문서를 찾습니다.\n",
    "    retrieved_docs = pdf_retriever.invoke(state[\"question\"])\n",
    "\n",
    "    # 검색된 문서를 형식화합니다.\n",
    "    retrieved_docs = format_docs(retrieved_docs)\n",
    "\n",
    "    # 검색된 문서를 context 키에 저장합니다.\n",
    "    return GraphState(context=retrieved_docs)\n",
    "\n",
    "\n",
    "# LLM을 사용하여 답변을 생성합니다.\n",
    "def llm_answer(state: GraphState) -> GraphState:\n",
    "    question = state[\"question\"]\n",
    "    context = state[\"context\"]\n",
    "\n",
    "    # 체인을 호출하여 답변을 생성합니다.\n",
    "    response = pdf_chain.invoke({\"question\": question, \"context\": context})\n",
    "\n",
    "    return GraphState(answer=response)\n",
    "\n",
    "\n",
    "def rewrite(state):\n",
    "    question = state[\"question\"]\n",
    "    answer = state[\"answer\"]\n",
    "    context = state[\"context\"]\n",
    "    prompt = ChatPromptTemplate.from_messages(\n",
    "        [\n",
    "            (\n",
    "                \"system\",\n",
    "                \"You are a professional prompt rewriter. Your task is to generate the question in order to get additional information that is now shown in the context.\"\n",
    "                \"Your generated question will be searched on the web to find relevant information.\",\n",
    "            ),\n",
    "            (\n",
    "                \"human\",\n",
    "                \"Rewrite the question to get additional information to get the answer.\"\n",
    "                \"\\n\\nHere is the initial question:\\n ------- \\n{question}\\n ------- \\n\"\n",
    "                \"\\n\\nHere is the initial context:\\n ------- \\n{context}\\n ------- \\n\"\n",
    "                \"\\n\\nHere is the initial answer to the question:\\n ------- \\n{answer}\\n ------- \\n\"\n",
    "                \"\\n\\nFormulate an improved question in Korean:\",\n",
    "            ),\n",
    "        ]\n",
    "    )\n",
    "\n",
    "    # Question rewriting model\n",
    "    model = ChatOpenAI(temperature=0, model=\"gpt-3.5-turbo\")\n",
    "\n",
    "    chain = prompt | model | StrOutputParser()\n",
    "    response = chain.invoke(\n",
    "        {\"question\": question, \"answer\": answer, \"context\": context}\n",
    "    )\n",
    "    return GraphState(question=response)\n",
    "\n",
    "\n",
    "def search_on_web(state: GraphState) -> GraphState:\n",
    "    # 문서에서 검색하여 관련성 있는 문서를 찾습니다.\n",
    "    search_tool = TavilySearchResults(max_results=5)\n",
    "    search_result = search_tool.invoke({\"query\": state[\"question\"]})\n",
    "\n",
    "    # 검색된 문서를 형식화합니다.\n",
    "    search_result = format_searched_docs(search_result)\n",
    "    # 검색된 문서를 context 키에 저장합니다.\n",
    "    return GraphState(\n",
    "        context=search_result,\n",
    "    )\n",
    "\n",
    "\n",
    "def relevance_check(state: GraphState) -> GraphState:\n",
    "    print(\"relevance_check\", state)\n",
    "    # 관련성 체크를 실행합니다. 결과: grounded, notGrounded, notSure\n",
    "    response = upstage_ground_checker.run(\n",
    "        {\"context\": state[\"context\"], \"answer\": state[\"answer\"]}\n",
    "    )\n",
    "    return GraphState(\n",
    "        relevance=response, question=state[\"question\"], answer=state[\"answer\"]\n",
    "    )\n",
    "\n",
    "\n",
    "def is_relevant(state: GraphState) -> GraphState:\n",
    "    return state[\"relevance\"]"
   ]
  },
  {
   "cell_type": "code",
   "execution_count": 61,
   "id": "a6015807",
   "metadata": {},
   "outputs": [],
   "source": [
    "from langgraph.graph import END, StateGraph\n",
    "from langgraph.checkpoint.memory import MemorySaver\n",
    "\n",
    "# langgraph.graph에서 StateGraph와 END를 가져옵니다.\n",
    "workflow = StateGraph(GraphState)\n",
    "\n",
    "# 노드들을 정의합니다.\n",
    "workflow.add_node(\"retrieve\", retrieve_document)  # 에이전트 노드를 추가합니다.\n",
    "workflow.add_node(\"llm_answer\", llm_answer)  # 정보 검색 노드를 추가합니다.\n",
    "workflow.add_node(\n",
    "    \"relevance_check\", relevance_check\n",
    ")  # 답변의 문서에 대한 관련성 체크 노드를 추가합니다.\n",
    "workflow.add_node(\"rewrite\", rewrite)  # 질문을 재작성하는 노드를 추가합니다.\n",
    "workflow.add_node(\"search_on_web\", search_on_web)  # 웹 검색 노드를 추가합니다.\n",
    "\n",
    "# 각 노드들을 연결합니다.\n",
    "workflow.add_edge(\"retrieve\", \"llm_answer\")  # 검색 -> 답변\n",
    "workflow.add_edge(\"llm_answer\", \"relevance_check\")  # 답변 -> 관련성 체크\n",
    "workflow.add_edge(\"rewrite\", \"search_on_web\")  # 재작성 -> 관련성 체크\n",
    "workflow.add_edge(\"search_on_web\", \"llm_answer\")  # 웹 검색 -> 답변\n",
    "\n",
    "\n",
    "# 조건부 엣지를 추가합니다.\n",
    "workflow.add_conditional_edges(\n",
    "    \"relevance_check\",  # 관련성 체크 노드에서 나온 결과를 is_relevant 함수에 전달합니다.\n",
    "    is_relevant,\n",
    "    {\n",
    "        \"grounded\": END,  # 관련성이 있으면 종료합니다.\n",
    "        \"notGrounded\": \"rewrite\",  # 관련성이 없으면 다시 답변을 생성합니다.\n",
    "        \"notSure\": \"rewrite\",  # 관련성 체크 결과가 모호하다면 다시 답변을 생성합니다.\n",
    "    },\n",
    ")\n",
    "\n",
    "\n",
    "workflow.set_entry_point(\"retrieve\")\n",
    "\n",
    "memory = MemorySaver()\n",
    "\n",
    "app = workflow.compile(checkpointer=memory)"
   ]
  },
  {
   "cell_type": "code",
   "execution_count": 62,
   "id": "2e09251d",
   "metadata": {},
   "outputs": [
    {
     "data": {
      "image/jpeg": "[encoded data removed]",
      "text/plain": [
       "<IPython.core.display.Image object>"
      ]
     },
     "metadata": {},
     "output_type": "display_data"
    }
   ],
   "source": [
    "from IPython.display import Image, display\n",
    "\n",
    "try:\n",
    "    display(\n",
    "        Image(app.get_graph(xray=True).draw_mermaid_png())\n",
    "    )  # 실행 가능한 객체의 그래프를 mermaid 형식의 PNG로 그려서 표시합니다. xray=True는 추가적인 세부 정보를 포함합니다.\n",
    "except:\n",
    "    # 이 부분은 추가적인 의존성이 필요하며 선택적으로 실행됩니다.\n",
    "    pass"
   ]
  },
  {
   "cell_type": "code",
   "execution_count": null,
   "id": "3004f341",
   "metadata": {},
   "outputs": [
    {
     "name": "stdout",
     "output_type": "stream",
     "text": [
      "\"Output from node 'retrieve':\"\n",
      "'---'\n",
      "{ 'context': '<document><content>밀리의서재와 경쟁사의 재무 및 밸류에이션 지표 비교 (단위: 억원, %, 배)\\n'\n",
      "             '밀리의서재 미스터블루 키다리스튜디오 디앤씨미디어 예스24\\n'\n",
      "             '주가(원) 17,200 2,390 4,560 26,100 4,380\\n'\n",
      "             '시가총액 (억원) 1,462 1,985 1,689 3,269 1,095\\n'\n",
      "             '자산총계 (억원) 2021 178 807 2,901 882 5,882\\n'\n",
      "             '2022 276 1,364 3,777 939 3,876\\n'\n",
      "             '2023 787 1,152 3,443 987 4,493\\n'\n",
      "             '2024E 879 1,149\\n'\n",
      "             '자본총계 (억원) 2021 -830 652 2,228 682 3,330\\n'\n",
      "             '2022 75 681 2,712 739 1,834\\n'\n",
      "             '2023 577 555 2,081 801 2,199\\n'\n",
      "             '2024E 698 935\\n'\n",
      "             '매출액 (억원) 2021 289 615 1,191 674 6,537\\n'\n",
      "             '2022 458 772 1,694 612 6,638\\n'\n",
      "             '2023 566 741 1,710 604 '\n",
      "             '6,578</content><source>data/632480.pdf</source><page>18</page></document>\\n'\n",
      "             '<document><content>연혁\\n'\n",
      "             '밀리의서재는 전자책과 관련된 밀리의서재는 전자책을 포함한 도서IP(Intellectual Property, '\n",
      "             '지적재산권)기반의 다양한 콘텐츠 정기구독 서비스를 개\\n'\n",
      "             '멀티미디어 콘텐츠를 구독형 발, 운영, 판매하는 사업을 영위하는 회사이다. 동사는 전자책과 관련된 멀티미디어 '\n",
      "             '콘텐츠를 구독형 서비스로 제공하\\n'\n",
      "             '서비스로 제공하는 사업 영위 는 독서 플랫폼을 운영하고 있다. 국내 최초로 전자책 분야에서 구독 경제를 선보인 '\n",
      "             '동사는 전자책 외에 오디오북과 챗\\n'\n",
      "             '봇 등 새로운 형태의 독서 콘텐츠를 안착시키며 디지털 미디어 시대에 새로운 독서 패러다임을 만들어 가고 있다. '\n",
      "             '현재\\n'\n",
      "             '약 16만권 독서 콘텐츠를 제공 중이며, 2024년 1분기 구독자 수는 86만명까지 성장했다. 밀리의서재는 1) '\n",
      "             '누구나 자\\n'\n",
      "             '유롭게 글을 쓸 수 있는 창작 플랫폼 밀리로드를 운영하고 2) 전자책을 종이책으로 출판하며 구독형 도서 '\n",
      "             '플랫폼에서</content><source>data/632480.pdf</source><page>3</page></document>\\n'\n",
      "             '<document><content>PER은 12.1배인 반면, 경쟁사들의 평균 PER은 31.1배이다. 이 기준으로 '\n",
      "             '비교 시 밀리의서재는 상대적으로 저평가되어\\n'\n",
      "             '있다. 참고로 밀리의서재가 경쟁이 심한 웹툰/웹소설 사업을 본격적으로 진행 시 단기 이익은 다소 훼손될 수 '\n",
      "             '있으나,\\n'\n",
      "             '매출 성장으로 경쟁력을 입증할 수 있다면 PSR측면에서 매력도가 부각될 수 있다.\\n'\n",
      "             '17</content><source>data/632480.pdf</source><page>17</page></document>\\n'\n",
      "             '<document><content>밀리의서재 일반도서와 오리지널작품의 비즈니스 구조 비교\\n'\n",
      "             '자료: 밀리의서재, 한국IR협의회 기업리서치센터\\n'\n",
      "             '6</content><source>data/632480.pdf</source><page>6</page></document>\\n'\n",
      "             '<document><content>2023년 실적 Review\\n'\n",
      "             '2023년 매출액 2023년 밀리의서재 매출액은 566억원으로 전년대비 23.4% 증가했다.\\n'\n",
      "             '566억원(+23.4%YoY), 판매채널별로 매출액을 살펴보면, 매출의 58.2%를 차지하는 B2C채널에서의 '\n",
      "             '매출액이 8.7% 증가한 가운데, B2BC채\\n'\n",
      "             '영업이익 널과 B2B채널에서의 매출액이 57.3%, 45.0% 급증하며 매출 성장을 견인하였다. 2023년 5월 '\n",
      "             '현대차 기업도서관 전\\n'\n",
      "             '104억원(+149.6%YoY) 기록 직원 제공과 6월 KT알뜰폰 번들링 요금제 출시 등을 통해 동사의 '\n",
      "             '실구독자(기업과 제휴 고객 중 실제 사용고객+개인\\n'\n",
      "             '고객)수가 1년간 25만명 증가하며, 2023년 12월말에는 77.8만명을 기록했다.\\n'\n",
      "             '동사의 영업이익은 104억원으로 전년 대비 149.6%급증했다. 영업이익률도 18.4%로 2022년 대비 9.3%p '\n",
      "             '상승했다.\\n'\n",
      "             '영업이익은 1) 매출액 증가에 따른 영업레버리지 효과와 2) 광고선전비의 안정화로 급증했다. 매출원가율은 '\n",
      "             '30%대</content><source>data/632480.pdf</source><page>14</page></document>'}\n",
      "'\\n---\\n'\n"
     ]
    }
   ],
   "source": [
    "import pprint\n",
    "from langgraph.errors import GraphRecursionError\n",
    "from langchain_core.runnables import RunnableConfig\n",
    "from rag.utils import format_task\n",
    "\n",
    "config = RunnableConfig(\n",
    "    recursion_limit=12, configurable={\"thread_id\": \"CORRECTIVE-SEARCH-RAG\"}\n",
    ")\n",
    "\n",
    "# AgentState 객체를 활용하여 질문을 입력합니다.\n",
    "inputs = GraphState(\n",
    "    question=\"밀리의 서재의 경쟁사 대비한 재무상태를 리뷰해줘\"\n",
    ")\n",
    "\n",
    "# app.stream을 통해 입력된 메시지에 대한 출력을 스트리밍합니다.\n",
    "try:\n",
    "    for output in app.stream(inputs, config=config):\n",
    "        # 출력된 결과에서 키와 값을 순회합니다.\n",
    "        for key, value in output.items():\n",
    "            # 노드의 이름과 해당 노드에서 나온 출력을 출력합니다.\n",
    "            pprint.pprint(f\"Output from node '{key}':\")\n",
    "            pprint.pprint(\"---\")\n",
    "            # 출력 값을 예쁘게 출력합니다.\n",
    "            pprint.pprint(value, indent=2, width=80, depth=None)\n",
    "        # 각 출력 사이에 구분선을 추가합니다.\n",
    "        pprint.pprint(\"\\n---\\n\")\n",
    "except GraphRecursionError as e:\n",
    "    pprint.pprint(f\"Recursion limit reached: {e}\")"
   ]
  },
  {
   "cell_type": "code",
   "execution_count": null,
   "id": "4e235a78",
   "metadata": {},
   "outputs": [],
   "source": [
    "print(output[\"relevance_check\"][\"question\"])\n",
    "print(output[\"relevance_check\"][\"answer\"])\n",
    "print(output[\"relevance_check\"][\"relevance\"])"
   ]
  },
  {
   "cell_type": "markdown",
   "id": "17aa0e3a",
   "metadata": {},
   "source": [
    "## LangSmith 추적\n",
    "\n",
    "- 추적: https://smith.langchain.com/public/ce7b4ea8-df34-4bb6-850e-afc8d12e75e6/r"
   ]
  },
  {
   "cell_type": "markdown",
   "id": "1eabaec5",
   "metadata": {},
   "source": []
  }
 ],
 "metadata": {
  "kernelspec": {
   "display_name": "langgraph",
   "language": "python",
   "name": "langgraph"
  },
  "language_info": {
   "codemirror_mode": {
    "name": "ipython",
    "version": 3
   },
   "file_extension": ".py",
   "mimetype": "text/x-python",
   "name": "python",
   "nbconvert_exporter": "python",
   "pygments_lexer": "ipython3",
   "version": "3.10.14"
  }
 },
 "nbformat": 4,
 "nbformat_minor": 5
}
