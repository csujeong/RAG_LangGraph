{
    "cells": [
        {
            "cell_type": "markdown",
            "metadata": {
                "id": "FbWoGOis4KoG"
            },
            "source": [
                "# L3: 멀티 에이전트 고객 지원 자동화",
                "",
                "이 단원에서는 상담원의 성과를 향상시키는 데 도움이 되는 6가지 핵심 요소에 대해 알아봅니다:",
                "- 역할 놀이",
                "- 초점",
                "- 도구",
                "- 협력",
                "- 가드레일",
                "- 메모리"
            ]
        },
        {
            "cell_type": "markdown",
            "metadata": {},
            "source": [
                "라이브러리는 이미 교실에 설치되어 있습니다. 개인 컴퓨터에서 이 노트북을 실행하는 경우 다음을 설치할 수 있습니다:",
                "```파이썬",
                "!.pip install crewai==0.28.8 crewai_tools==0.1.6 langchain_community==0.0.29",
                "```"
            ]
        },
        {
            "cell_type": "code",
            "execution_count": null,
            "metadata": {
                "height": 64,
                "id": "_LQ5_lop4KJq"
            },
            "outputs": [],
            "source": [
                "# Warning control\n",
                "import warnings\n",
                "warnings.filterwarnings('ignore')"
            ]
        },
        {
            "cell_type": "markdown",
            "metadata": {},
            "source": [
                "- 라이브러리, API 및 LLM 가져오기"
            ]
        },
        {
            "cell_type": "code",
            "execution_count": null,
            "metadata": {
                "height": 30
            },
            "outputs": [],
            "source": [
                "from crewai import Agent, Task, Crew"
            ]
        },
        {
            "cell_type": "code",
            "execution_count": null,
            "metadata": {
                "height": 98
            },
            "outputs": [],
            "source": [
                "import os\n",
                "from utils import get_openai_api_key\n",
                "\n",
                "openai_api_key = get_openai_api_key()\n",
                "os.environ[\"OPENAI_MODEL_NAME\"] = 'gpt-3.5-turbo'"
            ]
        },
        {
            "cell_type": "markdown",
            "metadata": {},
            "source": [
                "## 역할 놀이, 집중력 및 협동심"
            ]
        },
        {
            "cell_type": "code",
            "execution_count": null,
            "metadata": {
                "height": 285
            },
            "outputs": [],
            "source": [
                "support_agent = Agent(\n",
                "    role=\"Senior Support Representative\",\n",
                "\tgoal=\"Be the most friendly and helpful \"\n",
                "        \"support representative in your team\",\n",
                "\tbackstory=(\n",
                "\t\t\"You work at crewAI (https://crewai.com) and \"\n",
                "        \" are now working on providing \"\n",
                "\t\t\"support to {customer}, a super important customer \"\n",
                "        \" for your company.\"\n",
                "\t\t\"You need to make sure that you provide the best support!\"\n",
                "\t\t\"Make sure to provide full complete answers, \"\n",
                "        \" and make no assumptions.\"\n",
                "\t),\n",
                "\tallow_delegation=False,\n",
                "\tverbose=True\n",
                ")"
            ]
        },
        {
            "cell_type": "markdown",
            "metadata": {},
            "source": [
                "- 허용_위임=False`를 설정하지 않으면 `allow_delegation`은 기본값인 `True`를 사용합니다.",
                "- 즉, 상담원이 특정 작업을 수행하기에 더 적합한 다른 상담원에게 작업을 위임할 수 있습니다."
            ]
        },
        {
            "cell_type": "code",
            "execution_count": null,
            "metadata": {
                "height": 285
            },
            "outputs": [],
            "source": [
                "support_quality_assurance_agent = Agent(\n",
                "\trole=\"Support Quality Assurance Specialist\",\n",
                "\tgoal=\"Get recognition for providing the \"\n",
                "    \"best support quality assurance in your team\",\n",
                "\tbackstory=(\n",
                "\t\t\"You work at crewAI (https://crewai.com) and \"\n",
                "        \"are now working with your team \"\n",
                "\t\t\"on a request from {customer} ensuring that \"\n",
                "        \"the support representative is \"\n",
                "\t\t\"providing the best support possible.\\n\"\n",
                "\t\t\"You need to make sure that the support representative \"\n",
                "        \"is providing full\"\n",
                "\t\t\"complete answers, and make no assumptions.\"\n",
                "\t),\n",
                "\tverbose=True\n",
                ")"
            ]
        },
        {
            "cell_type": "markdown",
            "metadata": {},
            "source": [
                "* 역할 놀이**: 두 에이전트 모두 역할, 목표, 배경 스토리가 주어집니다.",
                "* **포커스**: 두 에이전트 모두 자신이 맡은 역할의 캐릭터에 몰입하라는 메시지를 받았습니다.",
                "* **협력**: 지원 품질 보증 상담원은 지원 상담원에게 작업을 다시 위임하여 이들 상담원이 함께 작업할 수 있도록 할 수 있습니다."
            ]
        },
        {
            "cell_type": "markdown",
            "metadata": {},
            "source": [
                "## 도구, 가드레일 및 메모리",
                "",
                "### 도구"
            ]
        },
        {
            "cell_type": "markdown",
            "metadata": {},
            "source": [
                "- CrewAI 도구 가져오기"
            ]
        },
        {
            "cell_type": "code",
            "execution_count": null,
            "metadata": {
                "height": 64
            },
            "outputs": [],
            "source": [
                "from crewai_tools import SerperDevTool, \\\n",
                "                         ScrapeWebsiteTool, \\\n",
                "                         WebsiteSearchTool"
            ]
        },
        {
            "cell_type": "markdown",
            "metadata": {},
            "source": [
                "### 가능한 사용자 지정 도구",
                "- 고객 데이터 로드",
                "- 이전 대화 활용하기",
                "- CRM에서 데이터 로드",
                "- 기존 버그 보고서 확인",
                "- 기존 기능 요청 확인",
                "- 진행 중인 티켓 확인",
                "- ... 그리고 더"
            ]
        },
        {
            "cell_type": "markdown",
            "metadata": {},
            "source": [
                "- CrewAI 도구를 사용하는 몇 가지 방법.",
                "",
                "```파이썬",
                "search_tool = SerperDevTool()",
                "스크래프_도구 = 스크래프웹사이트도구()",
                "```"
            ]
        },
        {
            "cell_type": "markdown",
            "metadata": {},
            "source": [
                "- 문서 스크레이퍼 도구를 즉시 사용하세요.",
                "- 이 도구는 CrewAI 설명서의 한 페이지(URL 1개만)를 스크랩합니다."
            ]
        },
        {
            "cell_type": "code",
            "execution_count": null,
            "metadata": {
                "height": 64
            },
            "outputs": [],
            "source": [
                "docs_scrape_tool = ScrapeWebsiteTool(\n",
                "    website_url=\"https://docs.crewai.com/how-to/Creating-a-Crew-and-kick-it-off/\"\n",
                ")"
            ]
        },
        {
            "cell_type": "markdown",
            "metadata": {},
            "source": [
                "##### 상담원에게 도구를 제공하는 다양한 방법",
                "",
                "- 에이전트 레벨: 상담원은 자신이 수행하는 모든 작업에서 도구를 사용할 수 있습니다.",
                "- 작업 수준: 상담원은 특정 작업을 수행할 때만 해당 도구를 사용합니다.",
                "",
                "**참고**: 작업 도구가 상담원 도구보다 우선합니다."
            ]
        },
        {
            "cell_type": "markdown",
            "metadata": {},
            "source": [
                "### 작업 만들기",
                "- 작업 수준에서 도구를 전달하고 있습니다."
            ]
        },
        {
            "cell_type": "code",
            "execution_count": null,
            "metadata": {
                "height": 421
            },
            "outputs": [],
            "source": [
                "inquiry_resolution = Task(\n",
                "    description=(\n",
                "        \"{customer} just reached out with a super important ask:\\n\"\n",
                "\t    \"{inquiry}\\n\\n\"\n",
                "        \"{person} from {customer} is the one that reached out. \"\n",
                "\t\t\"Make sure to use everything you know \"\n",
                "        \"to provide the best support possible.\"\n",
                "\t\t\"You must strive to provide a complete \"\n",
                "        \"and accurate response to the customer's inquiry.\"\n",
                "    ),\n",
                "    expected_output=(\n",
                "\t    \"A detailed, informative response to the \"\n",
                "        \"customer's inquiry that addresses \"\n",
                "        \"all aspects of their question.\\n\"\n",
                "        \"The response should include references \"\n",
                "        \"to everything you used to find the answer, \"\n",
                "        \"including external data or solutions. \"\n",
                "        \"Ensure the answer is complete, \"\n",
                "\t\t\"leaving no questions unanswered, and maintain a helpful and friendly \"\n",
                "\t\t\"tone throughout.\"\n",
                "    ),\n",
                "\ttools=[docs_scrape_tool],\n",
                "    agent=support_agent,\n",
                ")"
            ]
        },
        {
            "cell_type": "markdown",
            "metadata": {},
            "source": [
                "- 품질보증_검토`가 도구를 사용하지 않습니다.",
                "- 여기서 QA 상담원은 지원 상담원의 작업만 검토합니다."
            ]
        },
        {
            "cell_type": "code",
            "execution_count": null,
            "metadata": {
                "height": 438
            },
            "outputs": [],
            "source": [
                "quality_assurance_review = Task(\n",
                "    description=(\n",
                "        \"Review the response drafted by the Senior Support Representative for {customer}'s inquiry. \"\n",
                "        \"Ensure that the answer is comprehensive, accurate, and adheres to the \"\n",
                "\t\t\"high-quality standards expected for customer support.\\n\"\n",
                "        \"Verify that all parts of the customer's inquiry \"\n",
                "        \"have been addressed \"\n",
                "\t\t\"thoroughly, with a helpful and friendly tone.\\n\"\n",
                "        \"Check for references and sources used to \"\n",
                "        \" find the information, \"\n",
                "\t\t\"ensuring the response is well-supported and \"\n",
                "        \"leaves no questions unanswered.\"\n",
                "    ),\n",
                "    expected_output=(\n",
                "        \"A final, detailed, and informative response \"\n",
                "        \"ready to be sent to the customer.\\n\"\n",
                "        \"This response should fully address the \"\n",
                "        \"customer's inquiry, incorporating all \"\n",
                "\t\t\"relevant feedback and improvements.\\n\"\n",
                "\t\t\"Don't be too formal, we are a chill and cool company \"\n",
                "\t    \"but maintain a professional and friendly tone throughout.\"\n",
                "    ),\n",
                "    agent=support_quality_assurance_agent,\n",
                ")\n"
            ]
        },
        {
            "cell_type": "markdown",
            "metadata": {},
            "source": [
                "### 크루 생성하기",
                "",
                "#### 메모리",
                "- 승무원을 구성할 때 'memory=true'를 설정하면 메모리가 활성화됩니다."
            ]
        },
        {
            "cell_type": "code",
            "execution_count": null,
            "metadata": {
                "height": 115
            },
            "outputs": [],
            "source": [
                "crew = Crew(\n",
                "  agents=[support_agent, support_quality_assurance_agent],\n",
                "  tasks=[inquiry_resolution, quality_assurance_review],\n",
                "  verbose=2,\n",
                "  memory=True\n",
                ")"
            ]
        },
        {
            "cell_type": "markdown",
            "metadata": {},
            "source": [
                "### 크루 운영",
                "",
                "**참고**: LLM은 동일한 입력에 대해 다른 출력을 제공할 수 있으므로 동영상에 표시되는 것과 실제 결과가 다를 수 있습니다.",
                "",
                "#### 가드레일",
                "- 아래 실행을 실행해 보면 에이전트와 응답이 예상 범위 내에 있음을 확인할 수 있습니다."
            ]
        },
        {
            "cell_type": "code",
            "execution_count": null,
            "metadata": {
                "height": 166
            },
            "outputs": [],
            "source": [
                "inputs = {\n",
                "    \"customer\": \"DeepLearningAI\",\n",
                "    \"person\": \"Andrew Ng\",\n",
                "    \"inquiry\": \"I need help with setting up a Crew \"\n",
                "               \"and kicking it off, specifically \"\n",
                "               \"how can I add memory to my crew? \"\n",
                "               \"Can you provide guidance?\"\n",
                "}\n",
                "result = crew.kickoff(inputs=inputs)"
            ]
        },
        {
            "cell_type": "markdown",
            "metadata": {},
            "source": [
                "- 최종 결과를 마크다운으로 표시합니다."
            ]
        },
        {
            "cell_type": "code",
            "execution_count": null,
            "metadata": {
                "height": 47
            },
            "outputs": [],
            "source": [
                "from IPython.display import Markdown\n",
                "Markdown(result)"
            ]
        },
        {
            "cell_type": "code",
            "execution_count": null,
            "metadata": {
                "height": 30
            },
            "outputs": [],
            "source": []
        },
        {
            "cell_type": "code",
            "execution_count": null,
            "metadata": {
                "height": 30
            },
            "outputs": [],
            "source": []
        },
        {
            "cell_type": "markdown",
            "metadata": {
                "id": "FbWoGOis4KoG"
            },
            "source": [
                "# L4: 고객 지원 캠페인을 위한 도구",
                "",
                "이 단원에서는 도구에 대해 자세히 알아보세요. 도구의 세 가지 핵심 요소에 초점을 맞출 것입니다:",
                "- 다용도성",
                "- 내결함성",
                "- 캐싱"
            ]
        },
        {
            "cell_type": "markdown",
            "metadata": {},
            "source": [
                "라이브러리는 이미 교실에 설치되어 있습니다. 개인 컴퓨터에서 이 노트북을 실행하는 경우 다음을 설치할 수 있습니다:",
                "```파이썬",
                "!.pip install crewai==0.28.8 crewai_tools==0.1.6 langchain_community==0.0.29",
                "```"
            ]
        },
        {
            "cell_type": "code",
            "execution_count": null,
            "metadata": {
                "height": 64,
                "id": "_LQ5_lop4KJq"
            },
            "outputs": [],
            "source": [
                "# Warning control\n",
                "import warnings\n",
                "warnings.filterwarnings('ignore')"
            ]
        },
        {
            "cell_type": "markdown",
            "metadata": {},
            "source": [
                "- 라이브러리, API 및 LLM 가져오기",
                "- 서퍼](https://serper.dev)"
            ]
        },
        {
            "cell_type": "code",
            "execution_count": null,
            "metadata": {
                "height": 30
            },
            "outputs": [],
            "source": [
                "from crewai import Agent, Task, Crew"
            ]
        },
        {
            "cell_type": "markdown",
            "metadata": {},
            "source": [
                "**참고**:",
                "- 동영상에서는 'gpt-4-turbo'를 사용하지만, 특정 제약 조건으로 인해 이 강좌를 모든 사람에게 무료로 제공하기 위해 여기서 실행할 코드에서는 'gpt-3.5-turbo'를 사용할 것입니다.",
                "- 노트북을 _로컬로_ 실행할 때 `gpt-4-turbo`를 사용할 수 있습니다(`gpt-4-turbo`를 사용하면 플랫폼에서 작동하지 않습니다).",
                "- 이해해 주셔서 감사합니다!"
            ]
        },
        {
            "cell_type": "code",
            "execution_count": null,
            "metadata": {
                "height": 132
            },
            "outputs": [],
            "source": [
                "import os\n",
                "from utils import get_openai_api_key, pretty_print_result\n",
                "from utils import get_serper_api_key\n",
                "\n",
                "openai_api_key = get_openai_api_key()\n",
                "os.environ[\"OPENAI_MODEL_NAME\"] = 'gpt-3.5-turbo'\n",
                "os.environ[\"SERPER_API_KEY\"] = get_serper_api_key()"
            ]
        },
        {
            "cell_type": "markdown",
            "metadata": {},
            "source": [
                "## 에이전트 만들기"
            ]
        },
        {
            "cell_type": "code",
            "execution_count": null,
            "metadata": {
                "height": 319
            },
            "outputs": [],
            "source": [
                "sales_rep_agent = Agent(\n",
                "    role=\"Sales Representative\",\n",
                "    goal=\"Identify high-value leads that match \"\n",
                "         \"our ideal customer profile\",\n",
                "    backstory=(\n",
                "        \"As a part of the dynamic sales team at CrewAI, \"\n",
                "        \"your mission is to scour \"\n",
                "        \"the digital landscape for potential leads. \"\n",
                "        \"Armed with cutting-edge tools \"\n",
                "        \"and a strategic mindset, you analyze data, \"\n",
                "        \"trends, and interactions to \"\n",
                "        \"unearth opportunities that others might overlook. \"\n",
                "        \"Your work is crucial in paving the way \"\n",
                "        \"for meaningful engagements and driving the company's growth.\"\n",
                "    ),\n",
                "    allow_delegation=False,\n",
                "    verbose=True\n",
                ")"
            ]
        },
        {
            "cell_type": "code",
            "execution_count": null,
            "metadata": {
                "height": 302
            },
            "outputs": [],
            "source": [
                "lead_sales_rep_agent = Agent(\n",
                "    role=\"Lead Sales Representative\",\n",
                "    goal=\"Nurture leads with personalized, compelling communications\",\n",
                "    backstory=(\n",
                "        \"Within the vibrant ecosystem of CrewAI's sales department, \"\n",
                "        \"you stand out as the bridge between potential clients \"\n",
                "        \"and the solutions they need.\"\n",
                "        \"By creating engaging, personalized messages, \"\n",
                "        \"you not only inform leads about our offerings \"\n",
                "        \"but also make them feel seen and heard.\"\n",
                "        \"Your role is pivotal in converting interest \"\n",
                "        \"into action, guiding leads through the journey \"\n",
                "        \"from curiosity to commitment.\"\n",
                "    ),\n",
                "    allow_delegation=False,\n",
                "    verbose=True\n",
                ")"
            ]
        },
        {
            "cell_type": "markdown",
            "metadata": {},
            "source": [
                "## 도구 만들기",
                "",
                "### 크루AI 도구"
            ]
        },
        {
            "cell_type": "code",
            "execution_count": null,
            "metadata": {
                "height": 64
            },
            "outputs": [],
            "source": [
                "from crewai_tools import DirectoryReadTool, \\\n",
                "                         FileReadTool, \\\n",
                "                         SerperDevTool"
            ]
        },
        {
            "cell_type": "code",
            "execution_count": null,
            "metadata": {
                "height": 64
            },
            "outputs": [],
            "source": [
                "directory_read_tool = DirectoryReadTool(directory='./instructions')\n",
                "file_read_tool = FileReadTool()\n",
                "search_tool = SerperDevTool()"
            ]
        },
        {
            "cell_type": "markdown",
            "metadata": {},
            "source": [
                "### 사용자 지정 도구",
                "- 크루에이아이의 [BaseTool](https://docs.crewai.com/core-concepts/Tools/#subclassing-basetool) 클래스를 사용하여 사용자 지정 도구 만들기"
            ]
        },
        {
            "cell_type": "code",
            "execution_count": null,
            "metadata": {
                "height": 30
            },
            "outputs": [],
            "source": [
                "from crewai_tools import BaseTool"
            ]
        },
        {
            "cell_type": "markdown",
            "metadata": {},
            "source": [
                "- 모든 도구에는 '이름'과 '설명'이 있어야 합니다.",
                "- 간소화 및 수업 목적을 위해 `SentimentAnalysisTool`은 모든 텍스트에 대해 `긍정`을 반환합니다.",
                "- 로컬에서 실행할 때는 `_run` 함수에서 로직으로 코드를 사용자 정의할 수 있습니다."
            ]
        },
        {
            "cell_type": "code",
            "execution_count": null,
            "metadata": {
                "height": 149
            },
            "outputs": [],
            "source": [
                "class SentimentAnalysisTool(BaseTool):\n",
                "    name: str =\"Sentiment Analysis Tool\"\n",
                "    description: str = (\"Analyzes the sentiment of text \"\n",
                "         \"to ensure positive and engaging communication.\")\n",
                "    \n",
                "    def _run(self, text: str) -> str:\n",
                "        # Your custom code tool goes here\n",
                "        return \"positive\""
            ]
        },
        {
            "cell_type": "code",
            "execution_count": null,
            "metadata": {
                "height": 30
            },
            "outputs": [],
            "source": [
                "sentiment_analysis_tool = SentimentAnalysisTool()"
            ]
        },
        {
            "cell_type": "markdown",
            "metadata": {},
            "source": [
                "## 작업 만들기",
                "",
                "- 리드 프로파일링 작업은 크루AI 도구를 사용하고 있습니다."
            ]
        },
        {
            "cell_type": "code",
            "execution_count": null,
            "metadata": {
                "height": 455
            },
            "outputs": [],
            "source": [
                "lead_profiling_task = Task(\n",
                "    description=(\n",
                "        \"Conduct an in-depth analysis of {lead_name}, \"\n",
                "        \"a company in the {industry} sector \"\n",
                "        \"that recently showed interest in our solutions. \"\n",
                "        \"Utilize all available data sources \"\n",
                "        \"to compile a detailed profile, \"\n",
                "        \"focusing on key decision-makers, recent business \"\n",
                "        \"developments, and potential needs \"\n",
                "        \"that align with our offerings. \"\n",
                "        \"This task is crucial for tailoring \"\n",
                "        \"our engagement strategy effectively.\\n\"\n",
                "        \"Don't make assumptions and \"\n",
                "        \"only use information you absolutely sure about.\"\n",
                "    ),\n",
                "    expected_output=(\n",
                "        \"A comprehensive report on {lead_name}, \"\n",
                "        \"including company background, \"\n",
                "        \"key personnel, recent milestones, and identified needs. \"\n",
                "        \"Highlight potential areas where \"\n",
                "        \"our solutions can provide value, \"\n",
                "        \"and suggest personalized engagement strategies.\"\n",
                "    ),\n",
                "    tools=[directory_read_tool, file_read_tool, search_tool],\n",
                "    agent=sales_rep_agent,\n",
                ")"
            ]
        },
        {
            "cell_type": "markdown",
            "metadata": {},
            "source": [
                "- 개인화된 아웃리치 작업은 사용자 지정 도구인 'SentimentAnalysisTool'과 크루AI의 'SerperDevTool'(search_tool)을 사용하고 있습니다."
            ]
        },
        {
            "cell_type": "code",
            "execution_count": null,
            "metadata": {
                "height": 506
            },
            "outputs": [],
            "source": [
                "personalized_outreach_task = Task(\n",
                "    description=(\n",
                "        \"Using the insights gathered from \"\n",
                "        \"the lead profiling report on {lead_name}, \"\n",
                "        \"craft a personalized outreach campaign \"\n",
                "        \"aimed at {key_decision_maker}, \"\n",
                "        \"the {position} of {lead_name}. \"\n",
                "        \"The campaign should address their recent {milestone} \"\n",
                "        \"and how our solutions can support their goals. \"\n",
                "        \"Your communication must resonate \"\n",
                "        \"with {lead_name}'s company culture and values, \"\n",
                "        \"demonstrating a deep understanding of \"\n",
                "        \"their business and needs.\\n\"\n",
                "        \"Don't make assumptions and only \"\n",
                "        \"use information you absolutely sure about.\"\n",
                "    ),\n",
                "    expected_output=(\n",
                "        \"A series of personalized email drafts \"\n",
                "        \"tailored to {lead_name}, \"\n",
                "        \"specifically targeting {key_decision_maker}.\"\n",
                "        \"Each draft should include \"\n",
                "        \"a compelling narrative that connects our solutions \"\n",
                "        \"with their recent achievements and future goals. \"\n",
                "        \"Ensure the tone is engaging, professional, \"\n",
                "        \"and aligned with {lead_name}'s corporate identity.\"\n",
                "    ),\n",
                "    tools=[sentiment_analysis_tool, search_tool],\n",
                "    agent=lead_sales_rep_agent,\n",
                ")"
            ]
        },
        {
            "cell_type": "markdown",
            "metadata": {},
            "source": [
                "## 크루 생성하기"
            ]
        },
        {
            "cell_type": "code",
            "execution_count": null,
            "metadata": {
                "height": 183
            },
            "outputs": [],
            "source": [
                "crew = Crew(\n",
                "    agents=[sales_rep_agent, \n",
                "            lead_sales_rep_agent],\n",
                "    \n",
                "    tasks=[lead_profiling_task, \n",
                "           personalized_outreach_task],\n",
                "\t\n",
                "    verbose=2,\n",
                "\tmemory=True\n",
                ")"
            ]
        },
        {
            "cell_type": "markdown",
            "metadata": {},
            "source": [
                "## 크루 운영",
                "",
                "**참고**: LLM은 동일한 입력에 대해 다른 출력을 제공할 수 있으므로 동영상에 표시되는 것과 실제 결과가 다를 수 있습니다."
            ]
        },
        {
            "cell_type": "code",
            "execution_count": null,
            "metadata": {
                "height": 166
            },
            "outputs": [],
            "source": [
                "inputs = {\n",
                "    \"lead_name\": \"DeepLearningAI\",\n",
                "    \"industry\": \"Online Learning Platform\",\n",
                "    \"key_decision_maker\": \"Andrew Ng\",\n",
                "    \"position\": \"CEO\",\n",
                "    \"milestone\": \"product launch\"\n",
                "}\n",
                "\n",
                "result = crew.kickoff(inputs=inputs)"
            ]
        },
        {
            "cell_type": "markdown",
            "metadata": {},
            "source": [
                "- 최종 결과를 마크다운으로 표시합니다."
            ]
        },
        {
            "cell_type": "code",
            "execution_count": null,
            "metadata": {
                "height": 47
            },
            "outputs": [],
            "source": [
                "from IPython.display import Markdown\n",
                "Markdown(result)"
            ]
        },
        {
            "cell_type": "code",
            "execution_count": null,
            "metadata": {
                "height": 30
            },
            "outputs": [],
            "source": []
        },
        {
            "cell_type": "code",
            "execution_count": null,
            "metadata": {
                "height": 30
            },
            "outputs": [],
            "source": []
        },
        {
            "cell_type": "markdown",
            "metadata": {},
            "source": [
                "# L5: 이벤트 계획 자동화",
                "",
                "이 단원에서는 작업에 대해 자세히 알아보세요."
            ]
        },
        {
            "cell_type": "markdown",
            "metadata": {},
            "source": [
                "라이브러리는 이미 교실에 설치되어 있습니다. 개인 컴퓨터에서 이 노트북을 실행하는 경우 다음을 설치할 수 있습니다:",
                "```파이썬",
                "!.pip install crewai==0.28.8 crewai_tools==0.1.6 langchain_community==0.0.29",
                "```"
            ]
        },
        {
            "cell_type": "code",
            "execution_count": null,
            "metadata": {
                "height": 64
            },
            "outputs": [],
            "source": [
                "# Warning control\n",
                "import warnings\n",
                "warnings.filterwarnings('ignore')"
            ]
        },
        {
            "cell_type": "markdown",
            "metadata": {},
            "source": [
                "- 라이브러리, API 및 LLM 가져오기"
            ]
        },
        {
            "cell_type": "code",
            "execution_count": null,
            "metadata": {
                "height": 30
            },
            "outputs": [],
            "source": [
                "from crewai import Agent, Crew, Task"
            ]
        },
        {
            "cell_type": "markdown",
            "metadata": {},
            "source": [
                "**참고**:",
                "- 동영상에서는 'gpt-4-turbo'를 사용하지만, 특정 제약 조건으로 인해 이 강좌를 모든 사람에게 무료로 제공하기 위해 여기서 실행할 코드에서는 'gpt-3.5-turbo'를 사용할 것입니다.",
                "- 노트북을 _로컬로_ 실행할 때 `gpt-4-turbo`를 사용할 수 있습니다(`gpt-4-turbo`를 사용하면 플랫폼에서 작동하지 않습니다).",
                "- 이해해 주셔서 감사합니다!"
            ]
        },
        {
            "cell_type": "code",
            "execution_count": null,
            "metadata": {
                "height": 115
            },
            "outputs": [],
            "source": [
                "import os\n",
                "from utils import get_openai_api_key,get_serper_api_key\n",
                "\n",
                "openai_api_key = get_openai_api_key()\n",
                "os.environ[\"OPENAI_MODEL_NAME\"] = 'gpt-3.5-turbo'\n",
                "os.environ[\"SERPER_API_KEY\"] = get_serper_api_key()"
            ]
        },
        {
            "cell_type": "markdown",
            "metadata": {},
            "source": [
                "## 크루AI 도구"
            ]
        },
        {
            "cell_type": "code",
            "execution_count": null,
            "metadata": {
                "height": 98
            },
            "outputs": [],
            "source": [
                "from crewai_tools import ScrapeWebsiteTool, SerperDevTool\n",
                "\n",
                "# Initialize the tools\n",
                "search_tool = SerperDevTool()\n",
                "scrape_tool = ScrapeWebsiteTool()"
            ]
        },
        {
            "cell_type": "markdown",
            "metadata": {},
            "source": [
                "## 에이전트 만들기"
            ]
        },
        {
            "cell_type": "code",
            "execution_count": null,
            "metadata": {
                "height": 268
            },
            "outputs": [],
            "source": [
                "# Agent 1: Venue Coordinator\n",
                "venue_coordinator = Agent(\n",
                "    role=\"Venue Coordinator\",\n",
                "    goal=\"Identify and book an appropriate venue \"\n",
                "    \"based on event requirements\",\n",
                "    tools=[search_tool, scrape_tool],\n",
                "    verbose=True,\n",
                "    backstory=(\n",
                "        \"With a keen sense of space and \"\n",
                "        \"understanding of event logistics, \"\n",
                "        \"you excel at finding and securing \"\n",
                "        \"the perfect venue that fits the event's theme, \"\n",
                "        \"size, and budget constraints.\"\n",
                "    )\n",
                ")"
            ]
        },
        {
            "cell_type": "code",
            "execution_count": null,
            "metadata": {
                "height": 285
            },
            "outputs": [],
            "source": [
                " # Agent 2: Logistics Manager\n",
                "logistics_manager = Agent(\n",
                "    role='Logistics Manager',\n",
                "    goal=(\n",
                "        \"Manage all logistics for the event \"\n",
                "        \"including catering and equipmen\"\n",
                "    ),\n",
                "    tools=[search_tool, scrape_tool],\n",
                "    verbose=True,\n",
                "    backstory=(\n",
                "        \"Organized and detail-oriented, \"\n",
                "        \"you ensure that every logistical aspect of the event \"\n",
                "        \"from catering to equipment setup \"\n",
                "        \"is flawlessly executed to create a seamless experience.\"\n",
                "    )\n",
                ")"
            ]
        },
        {
            "cell_type": "code",
            "execution_count": null,
            "metadata": {
                "height": 251
            },
            "outputs": [],
            "source": [
                "# Agent 3: Marketing and Communications Agent\n",
                "marketing_communications_agent = Agent(\n",
                "    role=\"Marketing and Communications Agent\",\n",
                "    goal=\"Effectively market the event and \"\n",
                "         \"communicate with participants\",\n",
                "    tools=[search_tool, scrape_tool],\n",
                "    verbose=True,\n",
                "    backstory=(\n",
                "        \"Creative and communicative, \"\n",
                "        \"you craft compelling messages and \"\n",
                "        \"engage with potential attendees \"\n",
                "        \"to maximize event exposure and participation.\"\n",
                "    )\n",
                ")"
            ]
        },
        {
            "cell_type": "markdown",
            "metadata": {},
            "source": [
                "## 베뉴 피단틱 오브젝트 생성",
                "",
                "- 피디틱 베이스모델](https://docs.pydantic.dev/latest/api/base_model/)을 사용하여 `VenueDetails` 클래스를 생성합니다.",
                "- 상담원은 이 객체의 여러 인스턴스를 생성하여 다양한 장소에 대한 정보로 이 객체를 채웁니다."
            ]
        },
        {
            "cell_type": "code",
            "execution_count": null,
            "metadata": {
                "height": 149
            },
            "outputs": [],
            "source": [
                "from pydantic import BaseModel\n",
                "# Define a Pydantic model for venue details \n",
                "# (demonstrating Output as Pydantic)\n",
                "class VenueDetails(BaseModel):\n",
                "    name: str\n",
                "    address: str\n",
                "    capacity: int\n",
                "    booking_status: str"
            ]
        },
        {
            "cell_type": "markdown",
            "metadata": {},
            "source": [
                "## 작업 만들기",
                "- output_json`을 사용하면 원하는 출력의 구조를 지정할 수 있습니다.",
                "- 출력_파일`을 사용하면 출력을 파일로 가져올 수 있습니다.",
                "- '휴먼_입력=참'으로 설정하면 작업이 완료되기 전에 사람의 피드백(결과 마음에 드는지 여부)을 묻습니다."
            ]
        },
        {
            "cell_type": "code",
            "execution_count": null,
            "metadata": {
                "height": 200
            },
            "outputs": [],
            "source": [
                "venue_task = Task(\n",
                "    description=\"Find a venue in {event_city} \"\n",
                "                \"that meets criteria for {event_topic}.\",\n",
                "    expected_output=\"All the details of a specifically chosen\"\n",
                "                    \"venue you found to accommodate the event.\",\n",
                "    human_input=True,\n",
                "    output_json=VenueDetails,\n",
                "    output_file=\"venue_details.json\",  \n",
                "      # Outputs the venue details as a JSON file\n",
                "    agent=venue_coordinator\n",
                ")"
            ]
        },
        {
            "cell_type": "markdown",
            "metadata": {},
            "source": [
                "- 비동기 실행=False`를 설정하면 작업이 그 뒤에 오는 작업과 병렬로 실행될 수 있음을 의미합니다."
            ]
        },
        {
            "cell_type": "code",
            "execution_count": null,
            "metadata": {
                "height": 200
            },
            "outputs": [],
            "source": [
                "logistics_task = Task(\n",
                "    description=\"Coordinate catering and \"\n",
                "                 \"equipment for an event \"\n",
                "                 \"with {expected_participants} participants \"\n",
                "                 \"on {tentative_date}.\",\n",
                "    expected_output=\"Confirmation of all logistics arrangements \"\n",
                "                    \"including catering and equipment setup.\",\n",
                "    human_input=True,\n",
                "    async_execution=True,\n",
                "    agent=logistics_manager\n",
                ")"
            ]
        },
        {
            "cell_type": "code",
            "execution_count": null,
            "metadata": {
                "height": 183
            },
            "outputs": [],
            "source": [
                "marketing_task = Task(\n",
                "    description=\"Promote the {event_topic} \"\n",
                "                \"aiming to engage at least\"\n",
                "                \"{expected_participants} potential attendees.\",\n",
                "    expected_output=\"Report on marketing activities \"\n",
                "                    \"and attendee engagement formatted as markdown.\",\n",
                "    async_execution=True,\n",
                "    output_file=\"marketing_report.md\",  # Outputs the report as a text file\n",
                "    agent=marketing_communications_agent\n",
                ")"
            ]
        },
        {
            "cell_type": "markdown",
            "metadata": {},
            "source": [
                "## 크루 생성하기"
            ]
        },
        {
            "cell_type": "markdown",
            "metadata": {},
            "source": [
                "**참고**: 물류_작업` 및 `마케팅_작업` 작업에 대해 `async_execution=True`를 설정했으므로 이제 `작업` 목록에서 작업 순서는 중요하지 않습니다."
            ]
        },
        {
            "cell_type": "code",
            "execution_count": null,
            "metadata": {
                "height": 217
            },
            "outputs": [],
            "source": [
                "# Define the crew with agents and tasks\n",
                "event_management_crew = Crew(\n",
                "    agents=[venue_coordinator, \n",
                "            logistics_manager, \n",
                "            marketing_communications_agent],\n",
                "    \n",
                "    tasks=[venue_task, \n",
                "           logistics_task, \n",
                "           marketing_task],\n",
                "    \n",
                "    verbose=True\n",
                ")"
            ]
        },
        {
            "cell_type": "markdown",
            "metadata": {},
            "source": [
                "## 크루 운영",
                "",
                "- 승무원 실행을 위한 입력을 설정합니다."
            ]
        },
        {
            "cell_type": "code",
            "execution_count": null,
            "metadata": {
                "height": 200
            },
            "outputs": [],
            "source": [
                "event_details = {\n",
                "    'event_topic': \"Tech Innovation Conference\",\n",
                "    'event_description': \"A gathering of tech innovators \"\n",
                "                         \"and industry leaders \"\n",
                "                         \"to explore future technologies.\",\n",
                "    'event_city': \"San Francisco\",\n",
                "    'tentative_date': \"2024-09-15\",\n",
                "    'expected_participants': 500,\n",
                "    'budget': 20000,\n",
                "    'venue_type': \"Conference Hall\"\n",
                "}"
            ]
        },
        {
            "cell_type": "markdown",
            "metadata": {},
            "source": [
                "**참고 1**: LLM은 동일한 입력에 대해 서로 다른 출력을 제공할 수 있으므로 동영상에 표시되는 것과 실제 결과가 다를 수 있습니다."
            ]
        },
        {
            "cell_type": "markdown",
            "metadata": {},
            "source": [
                "**참고 2**:",
                "- 일부 작업에 대해 `human_input=False`를 설정하면 실행이 완료되기 전에 실행이 사용자의 입력을 요청합니다.",
                "- 피드백을 요청하면 마우스 포인터를 사용하여 텍스트 상자를 먼저 클릭한 다음 아무 것도 입력하지 마세요."
            ]
        },
        {
            "cell_type": "code",
            "execution_count": null,
            "metadata": {
                "height": 30
            },
            "outputs": [],
            "source": [
                "result = event_management_crew.kickoff(inputs=event_details)"
            ]
        },
        {
            "cell_type": "markdown",
            "metadata": {},
            "source": [
                "- 생성된 `venue_details.json` 파일을 표시합니다."
            ]
        },
        {
            "cell_type": "code",
            "execution_count": null,
            "metadata": {
                "height": 132
            },
            "outputs": [],
            "source": [
                "import json\n",
                "from pprint import pprint\n",
                "\n",
                "with open('venue_details.json') as f:\n",
                "   data = json.load(f)\n",
                "\n",
                "pprint(data)"
            ]
        },
        {
            "cell_type": "markdown",
            "metadata": {},
            "source": [
                "- 생성된 `marketing_report.md` 파일을 표시합니다.",
                "",
                "**참고**: 킥오프` 실행이 성공적으로 실행된 후 `marketing_report.md` 파일이 생성될 때까지 45초 정도 더 기다리세요. 파일이 생성되기 전에 아래 코드를 실행하면 다음과 같은 결과가 출력됩니다:",
                "",
                "```",
                "마케팅_보고서.md",
                "```",
                "",
                "이 출력이 표시되면 조금 더 기다렸다가 다시 시도하세요."
            ]
        },
        {
            "cell_type": "code",
            "execution_count": null,
            "metadata": {
                "height": 47
            },
            "outputs": [],
            "source": [
                "from IPython.display import Markdown\n",
                "Markdown(\"marketing_report.md\")"
            ]
        },
        {
            "cell_type": "code",
            "execution_count": null,
            "metadata": {
                "height": 30
            },
            "outputs": [],
            "source": []
        },
        {
            "cell_type": "code",
            "execution_count": null,
            "metadata": {
                "height": 30
            },
            "outputs": [],
            "source": []
        },
        {
            "cell_type": "markdown",
            "metadata": {},
            "source": [
                "# L6: 재무 분석을 위한 멀티 에이전트 협업",
                "",
                "이 단원에서는 상담원들이 서로 협업할 수 있도록 하는 방법을 배웁니다."
            ]
        },
        {
            "cell_type": "markdown",
            "metadata": {},
            "source": [
                "라이브러리는 이미 교실에 설치되어 있습니다. 개인 컴퓨터에서 이 노트북을 실행하는 경우 다음을 설치할 수 있습니다:",
                "```파이썬",
                "!.pip install crewai==0.28.8 crewai_tools==0.1.6 langchain_community==0.0.29",
                "```"
            ]
        },
        {
            "cell_type": "code",
            "execution_count": null,
            "metadata": {
                "height": 64
            },
            "outputs": [],
            "source": [
                "# Warning control\n",
                "import warnings\n",
                "warnings.filterwarnings('ignore')"
            ]
        },
        {
            "cell_type": "markdown",
            "metadata": {},
            "source": [
                "- 라이브러리, API 및 LLM 가져오기"
            ]
        },
        {
            "cell_type": "code",
            "execution_count": null,
            "metadata": {
                "height": 30
            },
            "outputs": [],
            "source": [
                "from crewai import Agent, Task, Crew"
            ]
        },
        {
            "cell_type": "markdown",
            "metadata": {},
            "source": [
                "**참고**:",
                "- 동영상에서는 'gpt-4-turbo'를 사용하지만, 특정 제약 조건으로 인해 이 강좌를 모든 사람에게 무료로 제공하기 위해 여기서 실행할 코드에서는 'gpt-3.5-turbo'를 사용할 것입니다.",
                "- 노트북을 _로컬로_ 실행할 때 `gpt-4-turbo`를 사용할 수 있습니다(`gpt-4-turbo`를 사용하면 플랫폼에서 작동하지 않습니다).",
                "- 이해해 주셔서 감사합니다!"
            ]
        },
        {
            "cell_type": "code",
            "execution_count": null,
            "metadata": {
                "height": 115
            },
            "outputs": [],
            "source": [
                "import os\n",
                "from utils import get_openai_api_key, get_serper_api_key\n",
                "\n",
                "openai_api_key = get_openai_api_key()\n",
                "os.environ[\"OPENAI_MODEL_NAME\"] = 'gpt-3.5-turbo'\n",
                "os.environ[\"SERPER_API_KEY\"] = get_serper_api_key()"
            ]
        },
        {
            "cell_type": "markdown",
            "metadata": {},
            "source": [
                "## 크루AI 도구"
            ]
        },
        {
            "cell_type": "code",
            "execution_count": null,
            "metadata": {
                "height": 81
            },
            "outputs": [],
            "source": [
                "from crewai_tools import ScrapeWebsiteTool, SerperDevTool\n",
                "\n",
                "search_tool = SerperDevTool()\n",
                "scrape_tool = ScrapeWebsiteTool()"
            ]
        },
        {
            "cell_type": "markdown",
            "metadata": {},
            "source": [
                "## 에이전트 만들기"
            ]
        },
        {
            "cell_type": "code",
            "execution_count": null,
            "metadata": {
                "height": 234
            },
            "outputs": [],
            "source": [
                "data_analyst_agent = Agent(\n",
                "    role=\"Data Analyst\",\n",
                "    goal=\"Monitor and analyze market data in real-time \"\n",
                "         \"to identify trends and predict market movements.\",\n",
                "    backstory=\"Specializing in financial markets, this agent \"\n",
                "              \"uses statistical modeling and machine learning \"\n",
                "              \"to provide crucial insights. With a knack for data, \"\n",
                "              \"the Data Analyst Agent is the cornerstone for \"\n",
                "              \"informing trading decisions.\",\n",
                "    verbose=True,\n",
                "    allow_delegation=True,\n",
                "    tools = [scrape_tool, search_tool]\n",
                ")"
            ]
        },
        {
            "cell_type": "code",
            "execution_count": null,
            "metadata": {
                "height": 234
            },
            "outputs": [],
            "source": [
                "trading_strategy_agent = Agent(\n",
                "    role=\"Trading Strategy Developer\",\n",
                "    goal=\"Develop and test various trading strategies based \"\n",
                "         \"on insights from the Data Analyst Agent.\",\n",
                "    backstory=\"Equipped with a deep understanding of financial \"\n",
                "              \"markets and quantitative analysis, this agent \"\n",
                "              \"devises and refines trading strategies. It evaluates \"\n",
                "              \"the performance of different approaches to determine \"\n",
                "              \"the most profitable and risk-averse options.\",\n",
                "    verbose=True,\n",
                "    allow_delegation=True,\n",
                "    tools = [scrape_tool, search_tool]\n",
                ")"
            ]
        },
        {
            "cell_type": "code",
            "execution_count": null,
            "metadata": {
                "height": 234
            },
            "outputs": [],
            "source": [
                "execution_agent = Agent(\n",
                "    role=\"Trade Advisor\",\n",
                "    goal=\"Suggest optimal trade execution strategies \"\n",
                "         \"based on approved trading strategies.\",\n",
                "    backstory=\"This agent specializes in analyzing the timing, price, \"\n",
                "              \"and logistical details of potential trades. By evaluating \"\n",
                "              \"these factors, it provides well-founded suggestions for \"\n",
                "              \"when and how trades should be executed to maximize \"\n",
                "              \"efficiency and adherence to strategy.\",\n",
                "    verbose=True,\n",
                "    allow_delegation=True,\n",
                "    tools = [scrape_tool, search_tool]\n",
                ")"
            ]
        },
        {
            "cell_type": "code",
            "execution_count": null,
            "metadata": {
                "height": 234
            },
            "outputs": [],
            "source": [
                "risk_management_agent = Agent(\n",
                "    role=\"Risk Advisor\",\n",
                "    goal=\"Evaluate and provide insights on the risks \"\n",
                "         \"associated with potential trading activities.\",\n",
                "    backstory=\"Armed with a deep understanding of risk assessment models \"\n",
                "              \"and market dynamics, this agent scrutinizes the potential \"\n",
                "              \"risks of proposed trades. It offers a detailed analysis of \"\n",
                "              \"risk exposure and suggests safeguards to ensure that \"\n",
                "              \"trading activities align with the firm’s risk tolerance.\",\n",
                "    verbose=True,\n",
                "    allow_delegation=True,\n",
                "    tools = [scrape_tool, search_tool]\n",
                ")"
            ]
        },
        {
            "cell_type": "markdown",
            "metadata": {},
            "source": [
                "## 작업 만들기"
            ]
        },
        {
            "cell_type": "code",
            "execution_count": null,
            "metadata": {
                "height": 251
            },
            "outputs": [],
            "source": [
                "# Task for Data Analyst Agent: Analyze Market Data\n",
                "data_analysis_task = Task(\n",
                "    description=(\n",
                "        \"Continuously monitor and analyze market data for \"\n",
                "        \"the selected stock ({stock_selection}). \"\n",
                "        \"Use statistical modeling and machine learning to \"\n",
                "        \"identify trends and predict market movements.\"\n",
                "    ),\n",
                "    expected_output=(\n",
                "        \"Insights and alerts about significant market \"\n",
                "        \"opportunities or threats for {stock_selection}.\"\n",
                "    ),\n",
                "    agent=data_analyst_agent,\n",
                ")"
            ]
        },
        {
            "cell_type": "code",
            "execution_count": null,
            "metadata": {
                "height": 268
            },
            "outputs": [],
            "source": [
                "# Task for Trading Strategy Agent: Develop Trading Strategies\n",
                "strategy_development_task = Task(\n",
                "    description=(\n",
                "        \"Develop and refine trading strategies based on \"\n",
                "        \"the insights from the Data Analyst and \"\n",
                "        \"user-defined risk tolerance ({risk_tolerance}). \"\n",
                "        \"Consider trading preferences ({trading_strategy_preference}).\"\n",
                "    ),\n",
                "    expected_output=(\n",
                "        \"A set of potential trading strategies for {stock_selection} \"\n",
                "        \"that align with the user's risk tolerance.\"\n",
                "    ),\n",
                "    agent=trading_strategy_agent,\n",
                ")\n"
            ]
        },
        {
            "cell_type": "code",
            "execution_count": null,
            "metadata": {
                "height": 251
            },
            "outputs": [],
            "source": [
                "# Task for Trade Advisor Agent: Plan Trade Execution\n",
                "execution_planning_task = Task(\n",
                "    description=(\n",
                "        \"Analyze approved trading strategies to determine the \"\n",
                "        \"best execution methods for {stock_selection}, \"\n",
                "        \"considering current market conditions and optimal pricing.\"\n",
                "    ),\n",
                "    expected_output=(\n",
                "        \"Detailed execution plans suggesting how and when to \"\n",
                "        \"execute trades for {stock_selection}.\"\n",
                "    ),\n",
                "    agent=execution_agent,\n",
                ")\n"
            ]
        },
        {
            "cell_type": "code",
            "execution_count": null,
            "metadata": {
                "height": 251
            },
            "outputs": [],
            "source": [
                "# Task for Risk Advisor Agent: Assess Trading Risks\n",
                "risk_assessment_task = Task(\n",
                "    description=(\n",
                "        \"Evaluate the risks associated with the proposed trading \"\n",
                "        \"strategies and execution plans for {stock_selection}. \"\n",
                "        \"Provide a detailed analysis of potential risks \"\n",
                "        \"and suggest mitigation strategies.\"\n",
                "    ),\n",
                "    expected_output=(\n",
                "        \"A comprehensive risk analysis report detailing potential \"\n",
                "        \"risks and mitigation recommendations for {stock_selection}.\"\n",
                "    ),\n",
                "    agent=risk_management_agent,\n",
                ")"
            ]
        },
        {
            "cell_type": "markdown",
            "metadata": {},
            "source": [
                "## 크루 생성하기",
                "- '프로세스' 클래스는 워크플로를 상담원에게 위임하는 데 도움이 됩니다(직장에서의 매니저처럼).",
                "- 아래 예시에서는 이를 계층적으로 실행합니다.",
                "- '관리자_llm'을 사용하면 사용하려는 \"관리자\" LLM을 선택할 수 있습니다."
            ]
        },
        {
            "cell_type": "code",
            "execution_count": null,
            "metadata": {
                "height": 353
            },
            "outputs": [],
            "source": [
                "from crewai import Crew, Process\n",
                "from langchain_openai import ChatOpenAI\n",
                "\n",
                "# Define the crew with agents and tasks\n",
                "financial_trading_crew = Crew(\n",
                "    agents=[data_analyst_agent, \n",
                "            trading_strategy_agent, \n",
                "            execution_agent, \n",
                "            risk_management_agent],\n",
                "    \n",
                "    tasks=[data_analysis_task, \n",
                "           strategy_development_task, \n",
                "           execution_planning_task, \n",
                "           risk_assessment_task],\n",
                "    \n",
                "    manager_llm=ChatOpenAI(model=\"gpt-3.5-turbo\", \n",
                "                           temperature=0.7),\n",
                "    process=Process.hierarchical,\n",
                "    verbose=True\n",
                ")"
            ]
        },
        {
            "cell_type": "markdown",
            "metadata": {},
            "source": [
                "## 크루 운영",
                "",
                "- 승무원 실행을 위한 입력을 설정합니다."
            ]
        },
        {
            "cell_type": "code",
            "execution_count": null,
            "metadata": {
                "height": 149
            },
            "outputs": [],
            "source": [
                "# Example data for kicking off the process\n",
                "financial_trading_inputs = {\n",
                "    'stock_selection': 'AAPL',\n",
                "    'initial_capital': '100000',\n",
                "    'risk_tolerance': 'Medium',\n",
                "    'trading_strategy_preference': 'Day Trading',\n",
                "    'news_impact_consideration': True\n",
                "}"
            ]
        },
        {
            "cell_type": "markdown",
            "metadata": {},
            "source": [
                "**참고**: LLM은 동일한 입력에 대해 다른 출력을 제공할 수 있으므로 동영상에 표시되는 것과 실제 결과가 다를 수 있습니다."
            ]
        },
        {
            "cell_type": "code",
            "execution_count": null,
            "metadata": {
                "height": 47
            },
            "outputs": [],
            "source": [
                "### this execution will take some time to run\n",
                "result = financial_trading_crew.kickoff(inputs=financial_trading_inputs)"
            ]
        },
        {
            "cell_type": "markdown",
            "metadata": {},
            "source": [
                "- 최종 결과를 마크다운으로 표시합니다."
            ]
        },
        {
            "cell_type": "code",
            "execution_count": null,
            "metadata": {
                "height": 47
            },
            "outputs": [],
            "source": [
                "from IPython.display import Markdown\n",
                "Markdown(result)"
            ]
        },
        {
            "cell_type": "code",
            "execution_count": null,
            "metadata": {
                "height": 30
            },
            "outputs": [],
            "source": []
        },
        {
            "cell_type": "code",
            "execution_count": null,
            "metadata": {
                "height": 30
            },
            "outputs": [],
            "source": []
        },
        {
            "cell_type": "markdown",
            "metadata": {},
            "source": [
                "# L7: 맞춤형 채용 지원서를 위한 크루 구축",
                "",
                "이 단원에서는 첫 번째 멀티 에이전트 시스템을 구축합니다."
            ]
        },
        {
            "cell_type": "markdown",
            "metadata": {},
            "source": [
                "라이브러리는 이미 교실에 설치되어 있습니다. 개인 컴퓨터에서 이 노트북을 실행하는 경우 다음을 설치할 수 있습니다:",
                "```파이썬",
                "!.pip install crewai==0.28.8 crewai_tools==0.1.6 langchain_community==0.0.29",
                "```"
            ]
        },
        {
            "cell_type": "code",
            "execution_count": null,
            "metadata": {
                "height": 64
            },
            "outputs": [],
            "source": [
                "# Warning control\n",
                "import warnings\n",
                "warnings.filterwarnings('ignore')"
            ]
        },
        {
            "cell_type": "markdown",
            "metadata": {},
            "source": [
                "- 라이브러리, API 및 LLM 가져오기"
            ]
        },
        {
            "cell_type": "code",
            "execution_count": null,
            "metadata": {
                "height": 30
            },
            "outputs": [],
            "source": [
                "from crewai import Agent, Task, Crew"
            ]
        },
        {
            "cell_type": "markdown",
            "metadata": {},
            "source": [
                "**참고**:",
                "- 동영상에서는 'gpt-4-turbo'를 사용하지만, 특정 제약 조건으로 인해 이 강좌를 모든 사람에게 무료로 제공하기 위해 여기서 실행할 코드에서는 'gpt-3.5-turbo'를 사용할 것입니다.",
                "- 노트북을 _로컬로_ 실행할 때 `gpt-4-turbo`를 사용할 수 있습니다(`gpt-4-turbo`를 사용하면 플랫폼에서 작동하지 않습니다).",
                "- 이해해 주셔서 감사합니다!"
            ]
        },
        {
            "cell_type": "code",
            "execution_count": null,
            "metadata": {
                "height": 115
            },
            "outputs": [],
            "source": [
                "import os\n",
                "from utils import get_openai_api_key, get_serper_api_key\n",
                "\n",
                "openai_api_key = get_openai_api_key()\n",
                "os.environ[\"OPENAI_MODEL_NAME\"] = 'gpt-3.5-turbo'\n",
                "os.environ[\"SERPER_API_KEY\"] = get_serper_api_key()"
            ]
        },
        {
            "cell_type": "markdown",
            "metadata": {},
            "source": [
                "## 크루AI 도구"
            ]
        },
        {
            "cell_type": "code",
            "execution_count": null,
            "metadata": {
                "height": 200
            },
            "outputs": [],
            "source": [
                "from crewai_tools import (\n",
                "  FileReadTool,\n",
                "  ScrapeWebsiteTool,\n",
                "  MDXSearchTool,\n",
                "  SerperDevTool\n",
                ")\n",
                "\n",
                "search_tool = SerperDevTool()\n",
                "scrape_tool = ScrapeWebsiteTool()\n",
                "read_resume = FileReadTool(file_path='./fake_resume.md')\n",
                "semantic_search_resume = MDXSearchTool(mdx='./fake_resume.md')"
            ]
        },
        {
            "cell_type": "markdown",
            "metadata": {},
            "source": [
                "- 노트북에서 `fake_resume.md`를 보려면 아래 셀의 주석을 해제하고 실행하세요."
            ]
        },
        {
            "cell_type": "code",
            "execution_count": null,
            "metadata": {
                "height": 47
            },
            "outputs": [],
            "source": [
                "# from IPython.display import Markdown, display\n",
                "# display(Markdown(\"./fake_resume.md\"))"
            ]
        },
        {
            "cell_type": "markdown",
            "metadata": {},
            "source": [
                "## 에이전트 만들기"
            ]
        },
        {
            "cell_type": "code",
            "execution_count": null,
            "metadata": {
                "height": 302
            },
            "outputs": [],
            "source": [
                "# Agent 1: Researcher\n",
                "researcher = Agent(\n",
                "    role=\"Tech Job Researcher\",\n",
                "    goal=\"Make sure to do amazing analysis on \"\n",
                "         \"job posting to help job applicants\",\n",
                "    tools = [scrape_tool, search_tool],\n",
                "    verbose=True,\n",
                "    backstory=(\n",
                "        \"As a Job Researcher, your prowess in \"\n",
                "        \"navigating and extracting critical \"\n",
                "        \"information from job postings is unmatched.\"\n",
                "        \"Your skills help pinpoint the necessary \"\n",
                "        \"qualifications and skills sought \"\n",
                "        \"by employers, forming the foundation for \"\n",
                "        \"effective application tailoring.\"\n",
                "    )\n",
                ")"
            ]
        },
        {
            "cell_type": "code",
            "execution_count": null,
            "metadata": {
                "height": 285
            },
            "outputs": [],
            "source": [
                "# Agent 2: Profiler\n",
                "profiler = Agent(\n",
                "    role=\"Personal Profiler for Engineers\",\n",
                "    goal=\"Do increditble research on job applicants \"\n",
                "         \"to help them stand out in the job market\",\n",
                "    tools = [scrape_tool, search_tool,\n",
                "             read_resume, semantic_search_resume],\n",
                "    verbose=True,\n",
                "    backstory=(\n",
                "        \"Equipped with analytical prowess, you dissect \"\n",
                "        \"and synthesize information \"\n",
                "        \"from diverse sources to craft comprehensive \"\n",
                "        \"personal and professional profiles, laying the \"\n",
                "        \"groundwork for personalized resume enhancements.\"\n",
                "    )\n",
                ")"
            ]
        },
        {
            "cell_type": "code",
            "execution_count": null,
            "metadata": {
                "height": 268
            },
            "outputs": [],
            "source": [
                "# Agent 3: Resume Strategist\n",
                "resume_strategist = Agent(\n",
                "    role=\"Resume Strategist for Engineers\",\n",
                "    goal=\"Find all the best ways to make a \"\n",
                "         \"resume stand out in the job market.\",\n",
                "    tools = [scrape_tool, search_tool,\n",
                "             read_resume, semantic_search_resume],\n",
                "    verbose=True,\n",
                "    backstory=(\n",
                "        \"With a strategic mind and an eye for detail, you \"\n",
                "        \"excel at refining resumes to highlight the most \"\n",
                "        \"relevant skills and experiences, ensuring they \"\n",
                "        \"resonate perfectly with the job's requirements.\"\n",
                "    )\n",
                ")"
            ]
        },
        {
            "cell_type": "code",
            "execution_count": null,
            "metadata": {
                "height": 285
            },
            "outputs": [],
            "source": [
                "# Agent 4: Interview Preparer\n",
                "interview_preparer = Agent(\n",
                "    role=\"Engineering Interview Preparer\",\n",
                "    goal=\"Create interview questions and talking points \"\n",
                "         \"based on the resume and job requirements\",\n",
                "    tools = [scrape_tool, search_tool,\n",
                "             read_resume, semantic_search_resume],\n",
                "    verbose=True,\n",
                "    backstory=(\n",
                "        \"Your role is crucial in anticipating the dynamics of \"\n",
                "        \"interviews. With your ability to formulate key questions \"\n",
                "        \"and talking points, you prepare candidates for success, \"\n",
                "        \"ensuring they can confidently address all aspects of the \"\n",
                "        \"job they are applying for.\"\n",
                "    )\n",
                ")"
            ]
        },
        {
            "cell_type": "markdown",
            "metadata": {},
            "source": [
                "## 작업 만들기"
            ]
        },
        {
            "cell_type": "code",
            "execution_count": null,
            "metadata": {
                "height": 268
            },
            "outputs": [],
            "source": [
                "# Task for Researcher Agent: Extract Job Requirements\n",
                "research_task = Task(\n",
                "    description=(\n",
                "        \"Analyze the job posting URL provided ({job_posting_url}) \"\n",
                "        \"to extract key skills, experiences, and qualifications \"\n",
                "        \"required. Use the tools to gather content and identify \"\n",
                "        \"and categorize the requirements.\"\n",
                "    ),\n",
                "    expected_output=(\n",
                "        \"A structured list of job requirements, including necessary \"\n",
                "        \"skills, qualifications, and experiences.\"\n",
                "    ),\n",
                "    agent=researcher,\n",
                "    async_execution=True\n",
                ")"
            ]
        },
        {
            "cell_type": "code",
            "execution_count": null,
            "metadata": {
                "height": 285
            },
            "outputs": [],
            "source": [
                "# Task for Profiler Agent: Compile Comprehensive Profile\n",
                "profile_task = Task(\n",
                "    description=(\n",
                "        \"Compile a detailed personal and professional profile \"\n",
                "        \"using the GitHub ({github_url}) URLs, and personal write-up \"\n",
                "        \"({personal_writeup}). Utilize tools to extract and \"\n",
                "        \"synthesize information from these sources.\"\n",
                "    ),\n",
                "    expected_output=(\n",
                "        \"A comprehensive profile document that includes skills, \"\n",
                "        \"project experiences, contributions, interests, and \"\n",
                "        \"communication style.\"\n",
                "    ),\n",
                "    agent=profiler,\n",
                "    async_execution=True\n",
                ")"
            ]
        },
        {
            "cell_type": "markdown",
            "metadata": {},
            "source": [
                "- 작업 목록을 작업의 '컨텍스트'로 전달할 수 있습니다.",
                "- 그런 다음 작업은 실행 시 해당 작업의 출력을 고려합니다.",
                "- 작업은 해당 작업의 출력이 있을 때까지 실행되지 않습니다."
            ]
        },
        {
            "cell_type": "code",
            "execution_count": null,
            "metadata": {
                "height": 353
            },
            "outputs": [],
            "source": [
                "# Task for Resume Strategist Agent: Align Resume with Job Requirements\n",
                "resume_strategy_task = Task(\n",
                "    description=(\n",
                "        \"Using the profile and job requirements obtained from \"\n",
                "        \"previous tasks, tailor the resume to highlight the most \"\n",
                "        \"relevant areas. Employ tools to adjust and enhance the \"\n",
                "        \"resume content. Make sure this is the best resume even but \"\n",
                "        \"don't make up any information. Update every section, \"\n",
                "        \"inlcuding the initial summary, work experience, skills, \"\n",
                "        \"and education. All to better reflrect the candidates \"\n",
                "        \"abilities and how it matches the job posting.\"\n",
                "    ),\n",
                "    expected_output=(\n",
                "        \"An updated resume that effectively highlights the candidate's \"\n",
                "        \"qualifications and experiences relevant to the job.\"\n",
                "    ),\n",
                "    output_file=\"tailored_resume.md\",\n",
                "    context=[research_task, profile_task],\n",
                "    agent=resume_strategist\n",
                ")"
            ]
        },
        {
            "cell_type": "code",
            "execution_count": null,
            "metadata": {
                "height": 336
            },
            "outputs": [],
            "source": [
                "# Task for Interview Preparer Agent: Develop Interview Materials\n",
                "interview_preparation_task = Task(\n",
                "    description=(\n",
                "        \"Create a set of potential interview questions and talking \"\n",
                "        \"points based on the tailored resume and job requirements. \"\n",
                "        \"Utilize tools to generate relevant questions and discussion \"\n",
                "        \"points. Make sure to use these question and talking points to \"\n",
                "        \"help the candiadte highlight the main points of the resume \"\n",
                "        \"and how it matches the job posting.\"\n",
                "    ),\n",
                "    expected_output=(\n",
                "        \"A document containing key questions and talking points \"\n",
                "        \"that the candidate should prepare for the initial interview.\"\n",
                "    ),\n",
                "    output_file=\"interview_materials.md\",\n",
                "    context=[research_task, profile_task, resume_strategy_task],\n",
                "    agent=interview_preparer\n",
                ")\n"
            ]
        },
        {
            "cell_type": "markdown",
            "metadata": {},
            "source": [
                "## 크루 생성하기"
            ]
        },
        {
            "cell_type": "code",
            "execution_count": null,
            "metadata": {
                "height": 234
            },
            "outputs": [],
            "source": [
                "job_application_crew = Crew(\n",
                "    agents=[researcher,\n",
                "            profiler,\n",
                "            resume_strategist,\n",
                "            interview_preparer],\n",
                "\n",
                "    tasks=[research_task,\n",
                "           profile_task,\n",
                "           resume_strategy_task,\n",
                "           interview_preparation_task],\n",
                "\n",
                "    verbose=True\n",
                ")"
            ]
        },
        {
            "cell_type": "markdown",
            "metadata": {},
            "source": [
                "## 크루 운영",
                "",
                "- 승무원 실행을 위한 입력을 설정합니다."
            ]
        },
        {
            "cell_type": "code",
            "execution_count": null,
            "metadata": {
                "height": 232
            },
            "outputs": [],
            "source": [
                "job_application_inputs = {\n",
                "    'job_posting_url': 'https://jobs.lever.co/AIFund/6c82e23e-d954-4dd8-a734-c0c2c5ee00f1?lever-origin=applied&lever-source%5B%5D=AI+Fund',\n",
                "    'github_url': 'https://github.com/joaomdmoura',\n",
                "    'personal_writeup': \"\"\"Noah is an accomplished Software\n",
                "    Engineering Leader with 18 years of experience, specializing in\n",
                "    managing remote and in-office teams, and expert in multiple\n",
                "    programming languages and frameworks. He holds an MBA and a strong\n",
                "    background in AI and data science. Noah has successfully led\n",
                "    major tech initiatives and startups, proving his ability to drive\n",
                "    innovation and growth in the tech industry. Ideal for leadership\n",
                "    roles that require a strategic and innovative approach.\"\"\"\n",
                "}"
            ]
        },
        {
            "cell_type": "markdown",
            "metadata": {},
            "source": [
                "**참고**: LLM은 동일한 입력에 대해 다른 출력을 제공할 수 있으므로 동영상에 표시되는 것과 실제 결과가 다를 수 있습니다."
            ]
        },
        {
            "cell_type": "code",
            "execution_count": null,
            "metadata": {
                "height": 47
            },
            "outputs": [],
            "source": [
                "### this execution will take a few minutes to run\n",
                "result = job_application_crew.kickoff(inputs=job_application_inputs)"
            ]
        },
        {
            "cell_type": "markdown",
            "metadata": {},
            "source": [
                "- 생성된 `tailored_resume.md` 파일을 표시합니다."
            ]
        },
        {
            "cell_type": "code",
            "execution_count": null,
            "metadata": {
                "height": 47
            },
            "outputs": [],
            "source": [
                "from IPython.display import Markdown, display\n",
                "display(Markdown(\"./tailored_resume.md\"))"
            ]
        },
        {
            "cell_type": "markdown",
            "metadata": {},
            "source": [
                "- 생성된 'interview_materials.md' 파일을 표시합니다."
            ]
        },
        {
            "cell_type": "code",
            "execution_count": null,
            "metadata": {
                "height": 30
            },
            "outputs": [],
            "source": [
                "display(Markdown(\"./interview_materials.md\"))"
            ]
        },
        {
            "cell_type": "markdown",
            "metadata": {},
            "source": [
                "# 축하합니다!!!",
                "",
                "## 성취를 공유하세요!",
                "- 모든 동영상 시청을 마치면 왼쪽 하단의 \"진행 중\" 이미지가 \"완료됨\"으로 바뀝니다.",
                "- '완료'를 클릭하면 자신의 이름이 표시된 코스 완료 페이지를 볼 수 있습니다.",
                "- 스크린샷을 찍어 LinkedIn, X(트위터) 또는 Facebook에 공유하세요.",
                "- (그리고 친구 몇 명에게 강좌를 체험해 보도록 하고 싶다면 태그하세요)** @Joāo (Joe) Moura, @crewAI, @DeepLearning.AI를 팔로우하세요.",
                "- 조아오와 딥러닝닷에이아이가 여러분의 게시물에 '좋아요'/공유/댓글을 달아드립니다!",
                "",
                "## LinkedIn 프로필에 추가할 수 있는 수료 배지를 받으세요!",
                "- learn.crewai.com](https://learn.crewai.com)으로 이동합니다.",
                "- 코스 완료 페이지의 스크린샷을 업로드합니다.",
                "- 공유할 수 있는 CrewAI 배지를 받게 됩니다!",
                "",
                "(이 강좌의 마지막 동영상에서도 이에 대해 설명합니다.)"
            ]
        },
        {
            "cell_type": "code",
            "execution_count": null,
            "metadata": {
                "height": 30
            },
            "outputs": [],
            "source": []
        },
        {
            "cell_type": "code",
            "execution_count": 1,
            "id": "33be73b5-f695-4ca1-bba2-f40bb9aa023d",
            "metadata": {},
            "outputs": [
                {
                    "name": "stdout",
                    "output_type": "stream",
                    "text": [
                        "다음 노트북이 병합됩니다.\n",
                        "01_updating_conjugate_priors.ipynb\n",
                        "02_pymc3_workflow.ipynb\n",
                        "03_bayesian_sharpe_ratio.ipynb\n",
                        "04_rolling_regression.ipynb\n",
                        "05_stochastic_volatility.ipynb\n",
                        "c.ipynb\n",
                        "병합된 파일: 10_bayesian_machine_learning.ipynb\n"
                    ]
                }
            ],
            "source": [
                "# 주피터 노트북 파일의 병합\n",
                "# 1. 먼저 병합 하려는 노트북 파일과 첨부 프로그램을 다운받아\n",
                "#    별도의 폴더를 만들어 한 곳에 모읍니다. \n",
                "#    파일이름 순으로 병합되므로 파일 이름을 잘 조정해 놓습니다.원본 파일은 변경되지 않습니다.\n",
                "# 2. 프로그램을 run하면 병합 파일이 생성됩니다. 병합된 결과 파일명은 \"merged.ipynb\" 입니다.\n",
                "\n",
                "import json\n",
                "import os\n",
                "\n",
                "def get_files():\n",
                "    # 병합할 노트북 파일의 list 만들기\n",
                "    notebooks_to_merge = [file.name for file in os.scandir() if file.name.endswith('.ipynb') and file.is_file()]\n",
                "\n",
                "    # 병합하는 노트북 파일을 정렬한다. 순서대로 병합하는 것으로 간주\n",
                "    notebooks_to_merge.sort()\n",
                "\n",
                "    print(\"다음 노트북이 병합됩니다.\")\n",
                "    for notebook in notebooks_to_merge:\n",
                "        print(notebook)\n",
                "    \n",
                "    return notebooks_to_merge\n",
                "\n",
                "def merge_notebooks(notebooks, merged_notebook):\n",
                "    \n",
                "    '''\n",
                "    parameters:\n",
                "    notebooks : 병합할 주피터노트북 파일들 이름\n",
                "    merged_notebook : 병합된 결과물 파일\n",
                "    returns : 없음\n",
                "    '''\n",
                "    with open (notebooks[0], mode = 'r', encoding = 'utf-8') as f:\n",
                "        base = json.load(f)\n",
                "    \n",
                "    for notebook in notebooks[1:]:\n",
                "        with open (notebook, mode = 'r', encoding = 'utf-8') as f:\n",
                "            add = json.load(f)\n",
                "            base['cells'].extend (add['cells']) \n",
                "     \n",
                "    with open(merged_notebook, mode='w', encoding='utf-8') as f:\n",
                "        json.dump(base, f)\n",
                "    \n",
                "    print(f'병합된 파일: {merged_notebook}')\n",
                "    \n",
                "notebooks_to_merge = get_files()\n",
                "nfile = os.getcwd().split('\\\\')[-1]\n",
                "merge_notebooks(notebooks_to_merge, f\"{nfile}.ipynb\")"
            ]
        },
        {
            "cell_type": "code",
            "execution_count": 30,
            "id": "8762b545-1500-45a6-9b50-edca57602d2c",
            "metadata": {},
            "outputs": [
                {
                    "name": "stdout",
                    "output_type": "stream",
                    "text": [
                        "./10_bayesian_machine_learning_jeong.ipynb 번역 완료\n"
                    ]
                }
            ],
            "source": [
                "import os\n",
                "import json\n",
                "import openai\n",
                "from langchain.chat_models import ChatOpenAI\n",
                "from langchain.schema import SystemMessage\n",
                "from langchain import PromptTemplate\n",
                "\n",
                "from dotenv import load_dotenv\n",
                "load_dotenv()\n",
                "\n",
                "# OpenAI API 키 설정\n",
                "\n",
                "filepath = './10_bayesian_machine_learning.ipynb'\n",
                "outpath = './10_bayesian_machine_learning_jeong.ipynb'\n",
                "\n",
                "\n",
                "prompt_template = PromptTemplate(\n",
                "    template=\"Translate the following text from English to Korean: {line}\",\n",
                "    input_variables=[\"line\"]\n",
                ")\n",
                "\n",
                "# ChatOpenAI 인스턴스 생성\n",
                "chat_openai = ChatOpenAI(openai_api_key=os.getenv('OPENAI_API_KEY'), model=\"gpt-3.5-turbo\", temperature=0)\n",
                "\n",
                "# .ipynb 파일 읽기\n",
                "with open(filepath, 'r', encoding='utf-8') as f:\n",
                "    notebook = json.load(f)\n",
                "\n",
                "# 각 셀의 내용 번역\n",
                "for cell in notebook['cells']:\n",
                "    if cell['cell_type'] == 'code':\n",
                "        # 코드 셀은 건너뛰기\n",
                "        continue\n",
                "\n",
                "    source = cell['source']\n",
                "    if isinstance(source, list):\n",
                "        # 여러 줄인 경우\n",
                "        translated = []\n",
                "        for line in source:\n",
                "            prompt = [HumanMessage(prompt_template.format(line=line))]\n",
                "            response = chat_openai(prompt)\n",
                "            translated.append(response.content.strip())\n",
                "    else:\n",
                "        # 한 줄인 경우\n",
                "        prompt = [HumanMessage(prompt_template.format(line=source))]\n",
                "        response = chat_openai(prompt)\n",
                "        translated = [response.content.strip()]\n",
                "\n",
                "    cell['source'] = translated\n",
                "\n",
                "# 번역된 내용으로 .ipynb 파일 저장\n",
                "with open(outpath, 'w', encoding='utf-8') as f:\n",
                "    json.dump(notebook, f, ensure_ascii=False, indent=4)\n",
                "\n",
                "print(f'{outpath} 번역 완료')"
            ]
        },
        {
            "cell_type": "code",
            "execution_count": null,
            "id": "f8089da6-d0f0-461e-9c02-a1fc0cab5a86",
            "metadata": {},
            "outputs": [],
            "source": []
        }
    ],
    "metadata": {
        "colab": {
            "provenance": []
        },
        "kernelspec": {
            "display_name": "Python 3 (ipykernel)",
            "language": "python",
            "name": "python3"
        },
        "language_info": {
            "codemirror_mode": {
                "name": "ipython",
                "version": 3
            },
            "file_extension": ".py",
            "mimetype": "text/x-python",
            "name": "python",
            "nbconvert_exporter": "python",
            "pygments_lexer": "ipython3",
            "version": "3.11.9"
        },
        "widgets": {
            "application/vnd.jupyter.widget-state+json": {
                "02dd1466359040b2b9abf121fe6afc21": {
                    "model_module": "@jupyter-widgets/base",
                    "model_module_version": "1.2.0",
                    "model_name": "LayoutModel",
                    "state": {
                        "_model_module": "@jupyter-widgets/base",
                        "_model_module_version": "1.2.0",
                        "_model_name": "LayoutModel",
                        "_view_count": null,
                        "_view_module": "@jupyter-widgets/base",
                        "_view_module_version": "1.2.0",
                        "_view_name": "LayoutView",
                        "align_content": null,
                        "align_items": null,
                        "align_self": null,
                        "border": null,
                        "bottom": null,
                        "display": null,
                        "flex": null,
                        "flex_flow": null,
                        "grid_area": null,
                        "grid_auto_columns": null,
                        "grid_auto_flow": null,
                        "grid_auto_rows": null,
                        "grid_column": null,
                        "grid_gap": null,
                        "grid_row": null,
                        "grid_template_areas": null,
                        "grid_template_columns": null,
                        "grid_template_rows": null,
                        "height": null,
                        "justify_content": null,
                        "justify_items": null,
                        "left": null,
                        "margin": null,
                        "max_height": null,
                        "max_width": null,
                        "min_height": null,
                        "min_width": null,
                        "object_fit": null,
                        "object_position": null,
                        "order": null,
                        "overflow": null,
                        "overflow_x": null,
                        "overflow_y": null,
                        "padding": null,
                        "right": null,
                        "top": null,
                        "visibility": null,
                        "width": null
                    }
                },
                "047fdf3d270f4bf88a7f4118da18c77f": {
                    "model_module": "@jupyter-widgets/controls",
                    "model_module_version": "1.5.0",
                    "model_name": "ProgressStyleModel",
                    "state": {
                        "_model_module": "@jupyter-widgets/controls",
                        "_model_module_version": "1.5.0",
                        "_model_name": "ProgressStyleModel",
                        "_view_count": null,
                        "_view_module": "@jupyter-widgets/base",
                        "_view_module_version": "1.2.0",
                        "_view_name": "StyleView",
                        "bar_color": null,
                        "description_width": ""
                    }
                },
                "049fddffb97047a1a0ee50b50fb14819": {
                    "model_module": "@jupyter-widgets/base",
                    "model_module_version": "1.2.0",
                    "model_name": "LayoutModel",
                    "state": {
                        "_model_module": "@jupyter-widgets/base",
                        "_model_module_version": "1.2.0",
                        "_model_name": "LayoutModel",
                        "_view_count": null,
                        "_view_module": "@jupyter-widgets/base",
                        "_view_module_version": "1.2.0",
                        "_view_name": "LayoutView",
                        "align_content": null,
                        "align_items": null,
                        "align_self": null,
                        "border": null,
                        "bottom": null,
                        "display": null,
                        "flex": null,
                        "flex_flow": null,
                        "grid_area": null,
                        "grid_auto_columns": null,
                        "grid_auto_flow": null,
                        "grid_auto_rows": null,
                        "grid_column": null,
                        "grid_gap": null,
                        "grid_row": null,
                        "grid_template_areas": null,
                        "grid_template_columns": null,
                        "grid_template_rows": null,
                        "height": null,
                        "justify_content": null,
                        "justify_items": null,
                        "left": null,
                        "margin": null,
                        "max_height": null,
                        "max_width": null,
                        "min_height": null,
                        "min_width": null,
                        "object_fit": null,
                        "object_position": null,
                        "order": null,
                        "overflow": null,
                        "overflow_x": null,
                        "overflow_y": null,
                        "padding": null,
                        "right": null,
                        "top": null,
                        "visibility": null,
                        "width": null
                    }
                },
                "07ba1e18e0144d40983bffe1de10dd0a": {
                    "model_module": "@jupyter-widgets/controls",
                    "model_module_version": "1.5.0",
                    "model_name": "DescriptionStyleModel",
                    "state": {
                        "_model_module": "@jupyter-widgets/controls",
                        "_model_module_version": "1.5.0",
                        "_model_name": "DescriptionStyleModel",
                        "_view_count": null,
                        "_view_module": "@jupyter-widgets/base",
                        "_view_module_version": "1.2.0",
                        "_view_name": "StyleView",
                        "description_width": ""
                    }
                },
                "19577df9b7334a99bb3f6160c1b5e94a": {
                    "model_module": "@jupyter-widgets/controls",
                    "model_module_version": "1.5.0",
                    "model_name": "HTMLModel",
                    "state": {
                        "_dom_classes": [],
                        "_model_module": "@jupyter-widgets/controls",
                        "_model_module_version": "1.5.0",
                        "_model_name": "HTMLModel",
                        "_view_count": null,
                        "_view_module": "@jupyter-widgets/controls",
                        "_view_module_version": "1.5.0",
                        "_view_name": "HTMLView",
                        "description": "",
                        "description_tooltip": null,
                        "layout": "IPY_MODEL_e539b644861d43298f7e532a314ae793",
                        "placeholder": "​",
                        "style": "IPY_MODEL_a117e78c14a34feba1279c804afe18e7",
                        "value": "Downloading readme: 100%"
                    }
                },
                "19cecde4bacd4a5988fa63096022f064": {
                    "model_module": "@jupyter-widgets/controls",
                    "model_module_version": "1.5.0",
                    "model_name": "DescriptionStyleModel",
                    "state": {
                        "_model_module": "@jupyter-widgets/controls",
                        "_model_module_version": "1.5.0",
                        "_model_name": "DescriptionStyleModel",
                        "_view_count": null,
                        "_view_module": "@jupyter-widgets/base",
                        "_view_module_version": "1.2.0",
                        "_view_name": "StyleView",
                        "description_width": ""
                    }
                },
                "1cadd43bcf0d485abc8d1cdbb2d5133d": {
                    "model_module": "@jupyter-widgets/controls",
                    "model_module_version": "1.5.0",
                    "model_name": "HTMLModel",
                    "state": {
                        "_dom_classes": [],
                        "_model_module": "@jupyter-widgets/controls",
                        "_model_module_version": "1.5.0",
                        "_model_name": "HTMLModel",
                        "_view_count": null,
                        "_view_module": "@jupyter-widgets/controls",
                        "_view_module_version": "1.5.0",
                        "_view_name": "HTMLView",
                        "description": "",
                        "description_tooltip": null,
                        "layout": "IPY_MODEL_590b561a6c3d49dd8ba9137b65a9e8f7",
                        "placeholder": "​",
                        "style": "IPY_MODEL_78b8098d991442a3be84d1b6aec1973f",
                        "value": "Downloading data: 100%"
                    }
                },
                "1efd7409c79a4e21a45dee261fd7d892": {
                    "model_module": "@jupyter-widgets/controls",
                    "model_module_version": "1.5.0",
                    "model_name": "HTMLModel",
                    "state": {
                        "_dom_classes": [],
                        "_model_module": "@jupyter-widgets/controls",
                        "_model_module_version": "1.5.0",
                        "_model_name": "HTMLModel",
                        "_view_count": null,
                        "_view_module": "@jupyter-widgets/controls",
                        "_view_module_version": "1.5.0",
                        "_view_name": "HTMLView",
                        "description": "",
                        "description_tooltip": null,
                        "layout": "IPY_MODEL_8fc91035bd4e493da805823bfbc6bfe4",
                        "placeholder": "​",
                        "style": "IPY_MODEL_51d7117eada64d55b8cc39df1fc35ebc",
                        "value": "Downloading readme: 100%"
                    }
                },
                "24179d73b2d84bff89a8918f366bf049": {
                    "model_module": "@jupyter-widgets/base",
                    "model_module_version": "1.2.0",
                    "model_name": "LayoutModel",
                    "state": {
                        "_model_module": "@jupyter-widgets/base",
                        "_model_module_version": "1.2.0",
                        "_model_name": "LayoutModel",
                        "_view_count": null,
                        "_view_module": "@jupyter-widgets/base",
                        "_view_module_version": "1.2.0",
                        "_view_name": "LayoutView",
                        "align_content": null,
                        "align_items": null,
                        "align_self": null,
                        "border": null,
                        "bottom": null,
                        "display": null,
                        "flex": null,
                        "flex_flow": null,
                        "grid_area": null,
                        "grid_auto_columns": null,
                        "grid_auto_flow": null,
                        "grid_auto_rows": null,
                        "grid_column": null,
                        "grid_gap": null,
                        "grid_row": null,
                        "grid_template_areas": null,
                        "grid_template_columns": null,
                        "grid_template_rows": null,
                        "height": null,
                        "justify_content": null,
                        "justify_items": null,
                        "left": null,
                        "margin": null,
                        "max_height": null,
                        "max_width": null,
                        "min_height": null,
                        "min_width": null,
                        "object_fit": null,
                        "object_position": null,
                        "order": null,
                        "overflow": null,
                        "overflow_x": null,
                        "overflow_y": null,
                        "padding": null,
                        "right": null,
                        "top": null,
                        "visibility": null,
                        "width": null
                    }
                },
                "2943d456d9884f7fb532d1cf545eaf45": {
                    "model_module": "@jupyter-widgets/base",
                    "model_module_version": "1.2.0",
                    "model_name": "LayoutModel",
                    "state": {
                        "_model_module": "@jupyter-widgets/base",
                        "_model_module_version": "1.2.0",
                        "_model_name": "LayoutModel",
                        "_view_count": null,
                        "_view_module": "@jupyter-widgets/base",
                        "_view_module_version": "1.2.0",
                        "_view_name": "LayoutView",
                        "align_content": null,
                        "align_items": null,
                        "align_self": null,
                        "border": null,
                        "bottom": null,
                        "display": null,
                        "flex": null,
                        "flex_flow": null,
                        "grid_area": null,
                        "grid_auto_columns": null,
                        "grid_auto_flow": null,
                        "grid_auto_rows": null,
                        "grid_column": null,
                        "grid_gap": null,
                        "grid_row": null,
                        "grid_template_areas": null,
                        "grid_template_columns": null,
                        "grid_template_rows": null,
                        "height": null,
                        "justify_content": null,
                        "justify_items": null,
                        "left": null,
                        "margin": null,
                        "max_height": null,
                        "max_width": null,
                        "min_height": null,
                        "min_width": null,
                        "object_fit": null,
                        "object_position": null,
                        "order": null,
                        "overflow": null,
                        "overflow_x": null,
                        "overflow_y": null,
                        "padding": null,
                        "right": null,
                        "top": null,
                        "visibility": null,
                        "width": null
                    }
                },
                "29d3c367dab9400f817331d768ef3e9f": {
                    "model_module": "@jupyter-widgets/base",
                    "model_module_version": "1.2.0",
                    "model_name": "LayoutModel",
                    "state": {
                        "_model_module": "@jupyter-widgets/base",
                        "_model_module_version": "1.2.0",
                        "_model_name": "LayoutModel",
                        "_view_count": null,
                        "_view_module": "@jupyter-widgets/base",
                        "_view_module_version": "1.2.0",
                        "_view_name": "LayoutView",
                        "align_content": null,
                        "align_items": null,
                        "align_self": null,
                        "border": null,
                        "bottom": null,
                        "display": null,
                        "flex": null,
                        "flex_flow": null,
                        "grid_area": null,
                        "grid_auto_columns": null,
                        "grid_auto_flow": null,
                        "grid_auto_rows": null,
                        "grid_column": null,
                        "grid_gap": null,
                        "grid_row": null,
                        "grid_template_areas": null,
                        "grid_template_columns": null,
                        "grid_template_rows": null,
                        "height": null,
                        "justify_content": null,
                        "justify_items": null,
                        "left": null,
                        "margin": null,
                        "max_height": null,
                        "max_width": null,
                        "min_height": null,
                        "min_width": null,
                        "object_fit": null,
                        "object_position": null,
                        "order": null,
                        "overflow": null,
                        "overflow_x": null,
                        "overflow_y": null,
                        "padding": null,
                        "right": null,
                        "top": null,
                        "visibility": null,
                        "width": null
                    }
                },
                "2be38f341a5e42eda84ee8a46dd11ea1": {
                    "model_module": "@jupyter-widgets/controls",
                    "model_module_version": "1.5.0",
                    "model_name": "HBoxModel",
                    "state": {
                        "_dom_classes": [],
                        "_model_module": "@jupyter-widgets/controls",
                        "_model_module_version": "1.5.0",
                        "_model_name": "HBoxModel",
                        "_view_count": null,
                        "_view_module": "@jupyter-widgets/controls",
                        "_view_module_version": "1.5.0",
                        "_view_name": "HBoxView",
                        "box_style": "",
                        "children": [
                            "IPY_MODEL_1cadd43bcf0d485abc8d1cdbb2d5133d",
                            "IPY_MODEL_cfabaca567c04ec5bf74a49a73e4adb2",
                            "IPY_MODEL_9a1de3dd22b3433690a97ebe951201f3"
                        ],
                        "layout": "IPY_MODEL_c3fb20b52379441cb506afebe4a11d50"
                    }
                },
                "300d75910ebc49f7b2e13a5381b6f5a0": {
                    "model_module": "@jupyter-widgets/base",
                    "model_module_version": "1.2.0",
                    "model_name": "LayoutModel",
                    "state": {
                        "_model_module": "@jupyter-widgets/base",
                        "_model_module_version": "1.2.0",
                        "_model_name": "LayoutModel",
                        "_view_count": null,
                        "_view_module": "@jupyter-widgets/base",
                        "_view_module_version": "1.2.0",
                        "_view_name": "LayoutView",
                        "align_content": null,
                        "align_items": null,
                        "align_self": null,
                        "border": null,
                        "bottom": null,
                        "display": null,
                        "flex": null,
                        "flex_flow": null,
                        "grid_area": null,
                        "grid_auto_columns": null,
                        "grid_auto_flow": null,
                        "grid_auto_rows": null,
                        "grid_column": null,
                        "grid_gap": null,
                        "grid_row": null,
                        "grid_template_areas": null,
                        "grid_template_columns": null,
                        "grid_template_rows": null,
                        "height": null,
                        "justify_content": null,
                        "justify_items": null,
                        "left": null,
                        "margin": null,
                        "max_height": null,
                        "max_width": null,
                        "min_height": null,
                        "min_width": null,
                        "object_fit": null,
                        "object_position": null,
                        "order": null,
                        "overflow": null,
                        "overflow_x": null,
                        "overflow_y": null,
                        "padding": null,
                        "right": null,
                        "top": null,
                        "visibility": null,
                        "width": null
                    }
                },
                "323f452344ae4b5b9c95a29b37ae7a4d": {
                    "model_module": "@jupyter-widgets/controls",
                    "model_module_version": "1.5.0",
                    "model_name": "ProgressStyleModel",
                    "state": {
                        "_model_module": "@jupyter-widgets/controls",
                        "_model_module_version": "1.5.0",
                        "_model_name": "ProgressStyleModel",
                        "_view_count": null,
                        "_view_module": "@jupyter-widgets/base",
                        "_view_module_version": "1.2.0",
                        "_view_name": "StyleView",
                        "bar_color": null,
                        "description_width": ""
                    }
                },
                "386e9e99a6a040abac9b3b7d106aec6b": {
                    "model_module": "@jupyter-widgets/controls",
                    "model_module_version": "1.5.0",
                    "model_name": "DescriptionStyleModel",
                    "state": {
                        "_model_module": "@jupyter-widgets/controls",
                        "_model_module_version": "1.5.0",
                        "_model_name": "DescriptionStyleModel",
                        "_view_count": null,
                        "_view_module": "@jupyter-widgets/base",
                        "_view_module_version": "1.2.0",
                        "_view_name": "StyleView",
                        "description_width": ""
                    }
                },
                "394020bf24064870a1eaa0ceaac4bb7c": {
                    "model_module": "@jupyter-widgets/controls",
                    "model_module_version": "1.5.0",
                    "model_name": "HBoxModel",
                    "state": {
                        "_dom_classes": [],
                        "_model_module": "@jupyter-widgets/controls",
                        "_model_module_version": "1.5.0",
                        "_model_name": "HBoxModel",
                        "_view_count": null,
                        "_view_module": "@jupyter-widgets/controls",
                        "_view_module_version": "1.5.0",
                        "_view_name": "HBoxView",
                        "box_style": "",
                        "children": [
                            "IPY_MODEL_1efd7409c79a4e21a45dee261fd7d892",
                            "IPY_MODEL_8b559554d99741baa15099170cb88032",
                            "IPY_MODEL_890882a4891942548135ae361ad731c2"
                        ],
                        "layout": "IPY_MODEL_a2ceaa67922d445aad0bf021c3a4afd1"
                    }
                },
                "397d08517afd42d6ab48c9ebddb2dd55": {
                    "model_module": "@jupyter-widgets/base",
                    "model_module_version": "1.2.0",
                    "model_name": "LayoutModel",
                    "state": {
                        "_model_module": "@jupyter-widgets/base",
                        "_model_module_version": "1.2.0",
                        "_model_name": "LayoutModel",
                        "_view_count": null,
                        "_view_module": "@jupyter-widgets/base",
                        "_view_module_version": "1.2.0",
                        "_view_name": "LayoutView",
                        "align_content": null,
                        "align_items": null,
                        "align_self": null,
                        "border": null,
                        "bottom": null,
                        "display": null,
                        "flex": null,
                        "flex_flow": null,
                        "grid_area": null,
                        "grid_auto_columns": null,
                        "grid_auto_flow": null,
                        "grid_auto_rows": null,
                        "grid_column": null,
                        "grid_gap": null,
                        "grid_row": null,
                        "grid_template_areas": null,
                        "grid_template_columns": null,
                        "grid_template_rows": null,
                        "height": null,
                        "justify_content": null,
                        "justify_items": null,
                        "left": null,
                        "margin": null,
                        "max_height": null,
                        "max_width": null,
                        "min_height": null,
                        "min_width": null,
                        "object_fit": null,
                        "object_position": null,
                        "order": null,
                        "overflow": null,
                        "overflow_x": null,
                        "overflow_y": null,
                        "padding": null,
                        "right": null,
                        "top": null,
                        "visibility": null,
                        "width": null
                    }
                },
                "3d74b3de38074d87938cece35eb967b8": {
                    "model_module": "@jupyter-widgets/base",
                    "model_module_version": "1.2.0",
                    "model_name": "LayoutModel",
                    "state": {
                        "_model_module": "@jupyter-widgets/base",
                        "_model_module_version": "1.2.0",
                        "_model_name": "LayoutModel",
                        "_view_count": null,
                        "_view_module": "@jupyter-widgets/base",
                        "_view_module_version": "1.2.0",
                        "_view_name": "LayoutView",
                        "align_content": null,
                        "align_items": null,
                        "align_self": null,
                        "border": null,
                        "bottom": null,
                        "display": null,
                        "flex": null,
                        "flex_flow": null,
                        "grid_area": null,
                        "grid_auto_columns": null,
                        "grid_auto_flow": null,
                        "grid_auto_rows": null,
                        "grid_column": null,
                        "grid_gap": null,
                        "grid_row": null,
                        "grid_template_areas": null,
                        "grid_template_columns": null,
                        "grid_template_rows": null,
                        "height": null,
                        "justify_content": null,
                        "justify_items": null,
                        "left": null,
                        "margin": null,
                        "max_height": null,
                        "max_width": null,
                        "min_height": null,
                        "min_width": null,
                        "object_fit": null,
                        "object_position": null,
                        "order": null,
                        "overflow": null,
                        "overflow_x": null,
                        "overflow_y": null,
                        "padding": null,
                        "right": null,
                        "top": null,
                        "visibility": null,
                        "width": null
                    }
                },
                "3d80170b57c4401fbe7710f373e2a4fd": {
                    "model_module": "@jupyter-widgets/controls",
                    "model_module_version": "1.5.0",
                    "model_name": "HTMLModel",
                    "state": {
                        "_dom_classes": [],
                        "_model_module": "@jupyter-widgets/controls",
                        "_model_module_version": "1.5.0",
                        "_model_name": "HTMLModel",
                        "_view_count": null,
                        "_view_module": "@jupyter-widgets/controls",
                        "_view_module_version": "1.5.0",
                        "_view_name": "HTMLView",
                        "description": "",
                        "description_tooltip": null,
                        "layout": "IPY_MODEL_d253b03ae47443d5a7d261611179780b",
                        "placeholder": "​",
                        "style": "IPY_MODEL_e18fb366517a451c94624d9c8b865533",
                        "value": " 1260/1260 [00:00&lt;00:00, 3245.45 examples/s]"
                    }
                },
                "43cbdd84aac249c4a338332fcdb47ff4": {
                    "model_module": "@jupyter-widgets/controls",
                    "model_module_version": "1.5.0",
                    "model_name": "DescriptionStyleModel",
                    "state": {
                        "_model_module": "@jupyter-widgets/controls",
                        "_model_module_version": "1.5.0",
                        "_model_name": "DescriptionStyleModel",
                        "_view_count": null,
                        "_view_module": "@jupyter-widgets/base",
                        "_view_module_version": "1.2.0",
                        "_view_name": "StyleView",
                        "description_width": ""
                    }
                },
                "4522ee8aed0c4529a2240a9c8148af5b": {
                    "model_module": "@jupyter-widgets/controls",
                    "model_module_version": "1.5.0",
                    "model_name": "DescriptionStyleModel",
                    "state": {
                        "_model_module": "@jupyter-widgets/controls",
                        "_model_module_version": "1.5.0",
                        "_model_name": "DescriptionStyleModel",
                        "_view_count": null,
                        "_view_module": "@jupyter-widgets/base",
                        "_view_module_version": "1.2.0",
                        "_view_name": "StyleView",
                        "description_width": ""
                    }
                },
                "47927954d79d4c4f89ca85bdcc17f803": {
                    "model_module": "@jupyter-widgets/controls",
                    "model_module_version": "1.5.0",
                    "model_name": "HBoxModel",
                    "state": {
                        "_dom_classes": [],
                        "_model_module": "@jupyter-widgets/controls",
                        "_model_module_version": "1.5.0",
                        "_model_name": "HBoxModel",
                        "_view_count": null,
                        "_view_module": "@jupyter-widgets/controls",
                        "_view_module_version": "1.5.0",
                        "_view_name": "HBoxView",
                        "box_style": "",
                        "children": [
                            "IPY_MODEL_5a16ff12c8ea4869bbde146b88cd89c2",
                            "IPY_MODEL_bcc52307c76e453b8888b818e898dd48",
                            "IPY_MODEL_b4c762cf527f494dabcb4ffe4643fef8"
                        ],
                        "layout": "IPY_MODEL_98c2b36767184aa69eb1335932e342e0"
                    }
                },
                "4ae4a21026c94828a2722f071b7fc4aa": {
                    "model_module": "@jupyter-widgets/controls",
                    "model_module_version": "1.5.0",
                    "model_name": "FloatProgressModel",
                    "state": {
                        "_dom_classes": [],
                        "_model_module": "@jupyter-widgets/controls",
                        "_model_module_version": "1.5.0",
                        "_model_name": "FloatProgressModel",
                        "_view_count": null,
                        "_view_module": "@jupyter-widgets/controls",
                        "_view_module_version": "1.5.0",
                        "_view_name": "ProgressView",
                        "bar_style": "success",
                        "description": "",
                        "description_tooltip": null,
                        "layout": "IPY_MODEL_e1e581eebe824f03a091502158de280d",
                        "max": 140,
                        "min": 0,
                        "orientation": "horizontal",
                        "style": "IPY_MODEL_b1ad6430c4c7494790ea13d48a6859b2",
                        "value": 140
                    }
                },
                "4ce8885841844ba68b3dc2e7b0f0a7e8": {
                    "model_module": "@jupyter-widgets/controls",
                    "model_module_version": "1.5.0",
                    "model_name": "HTMLModel",
                    "state": {
                        "_dom_classes": [],
                        "_model_module": "@jupyter-widgets/controls",
                        "_model_module_version": "1.5.0",
                        "_model_name": "HTMLModel",
                        "_view_count": null,
                        "_view_module": "@jupyter-widgets/controls",
                        "_view_module_version": "1.5.0",
                        "_view_name": "HTMLView",
                        "description": "",
                        "description_tooltip": null,
                        "layout": "IPY_MODEL_3d74b3de38074d87938cece35eb967b8",
                        "placeholder": "​",
                        "style": "IPY_MODEL_4522ee8aed0c4529a2240a9c8148af5b",
                        "value": "Generating test split: 100%"
                    }
                },
                "4dfd53e3963e4f7f868b2074c08f6f00": {
                    "model_module": "@jupyter-widgets/controls",
                    "model_module_version": "1.5.0",
                    "model_name": "HTMLModel",
                    "state": {
                        "_dom_classes": [],
                        "_model_module": "@jupyter-widgets/controls",
                        "_model_module_version": "1.5.0",
                        "_model_name": "HTMLModel",
                        "_view_count": null,
                        "_view_module": "@jupyter-widgets/controls",
                        "_view_module_version": "1.5.0",
                        "_view_name": "HTMLView",
                        "description": "",
                        "description_tooltip": null,
                        "layout": "IPY_MODEL_7ee1abd40d7e471ea8e0d3e9aef59a0d",
                        "placeholder": "​",
                        "style": "IPY_MODEL_bff34a8843494bdebe0fa50f4afdc469",
                        "value": "Downloading data: 100%"
                    }
                },
                "4e9002860aba496b8ec3a531dfb930ef": {
                    "model_module": "@jupyter-widgets/base",
                    "model_module_version": "1.2.0",
                    "model_name": "LayoutModel",
                    "state": {
                        "_model_module": "@jupyter-widgets/base",
                        "_model_module_version": "1.2.0",
                        "_model_name": "LayoutModel",
                        "_view_count": null,
                        "_view_module": "@jupyter-widgets/base",
                        "_view_module_version": "1.2.0",
                        "_view_name": "LayoutView",
                        "align_content": null,
                        "align_items": null,
                        "align_self": null,
                        "border": null,
                        "bottom": null,
                        "display": null,
                        "flex": null,
                        "flex_flow": null,
                        "grid_area": null,
                        "grid_auto_columns": null,
                        "grid_auto_flow": null,
                        "grid_auto_rows": null,
                        "grid_column": null,
                        "grid_gap": null,
                        "grid_row": null,
                        "grid_template_areas": null,
                        "grid_template_columns": null,
                        "grid_template_rows": null,
                        "height": null,
                        "justify_content": null,
                        "justify_items": null,
                        "left": null,
                        "margin": null,
                        "max_height": null,
                        "max_width": null,
                        "min_height": null,
                        "min_width": null,
                        "object_fit": null,
                        "object_position": null,
                        "order": null,
                        "overflow": null,
                        "overflow_x": null,
                        "overflow_y": null,
                        "padding": null,
                        "right": null,
                        "top": null,
                        "visibility": null,
                        "width": null
                    }
                },
                "51d7117eada64d55b8cc39df1fc35ebc": {
                    "model_module": "@jupyter-widgets/controls",
                    "model_module_version": "1.5.0",
                    "model_name": "DescriptionStyleModel",
                    "state": {
                        "_model_module": "@jupyter-widgets/controls",
                        "_model_module_version": "1.5.0",
                        "_model_name": "DescriptionStyleModel",
                        "_view_count": null,
                        "_view_module": "@jupyter-widgets/base",
                        "_view_module_version": "1.2.0",
                        "_view_name": "StyleView",
                        "description_width": ""
                    }
                },
                "547559a5534945a994a78581da8d227c": {
                    "model_module": "@jupyter-widgets/base",
                    "model_module_version": "1.2.0",
                    "model_name": "LayoutModel",
                    "state": {
                        "_model_module": "@jupyter-widgets/base",
                        "_model_module_version": "1.2.0",
                        "_model_name": "LayoutModel",
                        "_view_count": null,
                        "_view_module": "@jupyter-widgets/base",
                        "_view_module_version": "1.2.0",
                        "_view_name": "LayoutView",
                        "align_content": null,
                        "align_items": null,
                        "align_self": null,
                        "border": null,
                        "bottom": null,
                        "display": null,
                        "flex": null,
                        "flex_flow": null,
                        "grid_area": null,
                        "grid_auto_columns": null,
                        "grid_auto_flow": null,
                        "grid_auto_rows": null,
                        "grid_column": null,
                        "grid_gap": null,
                        "grid_row": null,
                        "grid_template_areas": null,
                        "grid_template_columns": null,
                        "grid_template_rows": null,
                        "height": null,
                        "justify_content": null,
                        "justify_items": null,
                        "left": null,
                        "margin": null,
                        "max_height": null,
                        "max_width": null,
                        "min_height": null,
                        "min_width": null,
                        "object_fit": null,
                        "object_position": null,
                        "order": null,
                        "overflow": null,
                        "overflow_x": null,
                        "overflow_y": null,
                        "padding": null,
                        "right": null,
                        "top": null,
                        "visibility": null,
                        "width": null
                    }
                },
                "54d7f9b6319c4ff59f3296c4a18af352": {
                    "model_module": "@jupyter-widgets/base",
                    "model_module_version": "1.2.0",
                    "model_name": "LayoutModel",
                    "state": {
                        "_model_module": "@jupyter-widgets/base",
                        "_model_module_version": "1.2.0",
                        "_model_name": "LayoutModel",
                        "_view_count": null,
                        "_view_module": "@jupyter-widgets/base",
                        "_view_module_version": "1.2.0",
                        "_view_name": "LayoutView",
                        "align_content": null,
                        "align_items": null,
                        "align_self": null,
                        "border": null,
                        "bottom": null,
                        "display": null,
                        "flex": null,
                        "flex_flow": null,
                        "grid_area": null,
                        "grid_auto_columns": null,
                        "grid_auto_flow": null,
                        "grid_auto_rows": null,
                        "grid_column": null,
                        "grid_gap": null,
                        "grid_row": null,
                        "grid_template_areas": null,
                        "grid_template_columns": null,
                        "grid_template_rows": null,
                        "height": null,
                        "justify_content": null,
                        "justify_items": null,
                        "left": null,
                        "margin": null,
                        "max_height": null,
                        "max_width": null,
                        "min_height": null,
                        "min_width": null,
                        "object_fit": null,
                        "object_position": null,
                        "order": null,
                        "overflow": null,
                        "overflow_x": null,
                        "overflow_y": null,
                        "padding": null,
                        "right": null,
                        "top": null,
                        "visibility": null,
                        "width": null
                    }
                },
                "590b561a6c3d49dd8ba9137b65a9e8f7": {
                    "model_module": "@jupyter-widgets/base",
                    "model_module_version": "1.2.0",
                    "model_name": "LayoutModel",
                    "state": {
                        "_model_module": "@jupyter-widgets/base",
                        "_model_module_version": "1.2.0",
                        "_model_name": "LayoutModel",
                        "_view_count": null,
                        "_view_module": "@jupyter-widgets/base",
                        "_view_module_version": "1.2.0",
                        "_view_name": "LayoutView",
                        "align_content": null,
                        "align_items": null,
                        "align_self": null,
                        "border": null,
                        "bottom": null,
                        "display": null,
                        "flex": null,
                        "flex_flow": null,
                        "grid_area": null,
                        "grid_auto_columns": null,
                        "grid_auto_flow": null,
                        "grid_auto_rows": null,
                        "grid_column": null,
                        "grid_gap": null,
                        "grid_row": null,
                        "grid_template_areas": null,
                        "grid_template_columns": null,
                        "grid_template_rows": null,
                        "height": null,
                        "justify_content": null,
                        "justify_items": null,
                        "left": null,
                        "margin": null,
                        "max_height": null,
                        "max_width": null,
                        "min_height": null,
                        "min_width": null,
                        "object_fit": null,
                        "object_position": null,
                        "order": null,
                        "overflow": null,
                        "overflow_x": null,
                        "overflow_y": null,
                        "padding": null,
                        "right": null,
                        "top": null,
                        "visibility": null,
                        "width": null
                    }
                },
                "5a16ff12c8ea4869bbde146b88cd89c2": {
                    "model_module": "@jupyter-widgets/controls",
                    "model_module_version": "1.5.0",
                    "model_name": "HTMLModel",
                    "state": {
                        "_dom_classes": [],
                        "_model_module": "@jupyter-widgets/controls",
                        "_model_module_version": "1.5.0",
                        "_model_name": "HTMLModel",
                        "_view_count": null,
                        "_view_module": "@jupyter-widgets/controls",
                        "_view_module_version": "1.5.0",
                        "_view_name": "HTMLView",
                        "description": "",
                        "description_tooltip": null,
                        "layout": "IPY_MODEL_83b7bfc6a35d4d65bc6cf43b26ddc6d5",
                        "placeholder": "​",
                        "style": "IPY_MODEL_6c42afe7ecb2447b8536d2b8d9f855e2",
                        "value": "Downloading data files: 100%"
                    }
                },
                "5f400dd761f541fbad68a80fbfdbdfcb": {
                    "model_module": "@jupyter-widgets/controls",
                    "model_module_version": "1.5.0",
                    "model_name": "ProgressStyleModel",
                    "state": {
                        "_model_module": "@jupyter-widgets/controls",
                        "_model_module_version": "1.5.0",
                        "_model_name": "ProgressStyleModel",
                        "_view_count": null,
                        "_view_module": "@jupyter-widgets/base",
                        "_view_module_version": "1.2.0",
                        "_view_name": "StyleView",
                        "bar_color": null,
                        "description_width": ""
                    }
                },
                "6750b0c252aa4a5880469512a64808eb": {
                    "model_module": "@jupyter-widgets/controls",
                    "model_module_version": "1.5.0",
                    "model_name": "HBoxModel",
                    "state": {
                        "_dom_classes": [],
                        "_model_module": "@jupyter-widgets/controls",
                        "_model_module_version": "1.5.0",
                        "_model_name": "HBoxModel",
                        "_view_count": null,
                        "_view_module": "@jupyter-widgets/controls",
                        "_view_module_version": "1.5.0",
                        "_view_name": "HBoxView",
                        "box_style": "",
                        "children": [
                            "IPY_MODEL_19577df9b7334a99bb3f6160c1b5e94a",
                            "IPY_MODEL_ed23e5abd0874ed08370f8ca2f67ac86",
                            "IPY_MODEL_b9840c6b5845445fbfc4cdbca5c23be8"
                        ],
                        "layout": "IPY_MODEL_24179d73b2d84bff89a8918f366bf049"
                    }
                },
                "6bf62902aa91468ea7912ed174ba9244": {
                    "model_module": "@jupyter-widgets/controls",
                    "model_module_version": "1.5.0",
                    "model_name": "DescriptionStyleModel",
                    "state": {
                        "_model_module": "@jupyter-widgets/controls",
                        "_model_module_version": "1.5.0",
                        "_model_name": "DescriptionStyleModel",
                        "_view_count": null,
                        "_view_module": "@jupyter-widgets/base",
                        "_view_module_version": "1.2.0",
                        "_view_name": "StyleView",
                        "description_width": ""
                    }
                },
                "6c42afe7ecb2447b8536d2b8d9f855e2": {
                    "model_module": "@jupyter-widgets/controls",
                    "model_module_version": "1.5.0",
                    "model_name": "DescriptionStyleModel",
                    "state": {
                        "_model_module": "@jupyter-widgets/controls",
                        "_model_module_version": "1.5.0",
                        "_model_name": "DescriptionStyleModel",
                        "_view_count": null,
                        "_view_module": "@jupyter-widgets/base",
                        "_view_module_version": "1.2.0",
                        "_view_name": "StyleView",
                        "description_width": ""
                    }
                },
                "6fcb5098379b49738048131f0e4e309f": {
                    "model_module": "@jupyter-widgets/controls",
                    "model_module_version": "1.5.0",
                    "model_name": "ProgressStyleModel",
                    "state": {
                        "_model_module": "@jupyter-widgets/controls",
                        "_model_module_version": "1.5.0",
                        "_model_name": "ProgressStyleModel",
                        "_view_count": null,
                        "_view_module": "@jupyter-widgets/base",
                        "_view_module_version": "1.2.0",
                        "_view_name": "StyleView",
                        "bar_color": null,
                        "description_width": ""
                    }
                },
                "735f73487e3f4b7c94a31b068c195bb7": {
                    "model_module": "@jupyter-widgets/controls",
                    "model_module_version": "1.5.0",
                    "model_name": "ProgressStyleModel",
                    "state": {
                        "_model_module": "@jupyter-widgets/controls",
                        "_model_module_version": "1.5.0",
                        "_model_name": "ProgressStyleModel",
                        "_view_count": null,
                        "_view_module": "@jupyter-widgets/base",
                        "_view_module_version": "1.2.0",
                        "_view_name": "StyleView",
                        "bar_color": null,
                        "description_width": ""
                    }
                },
                "73c02cc2024e499dabbbc14e790e9806": {
                    "model_module": "@jupyter-widgets/controls",
                    "model_module_version": "1.5.0",
                    "model_name": "HBoxModel",
                    "state": {
                        "_dom_classes": [],
                        "_model_module": "@jupyter-widgets/controls",
                        "_model_module_version": "1.5.0",
                        "_model_name": "HBoxModel",
                        "_view_count": null,
                        "_view_module": "@jupyter-widgets/controls",
                        "_view_module_version": "1.5.0",
                        "_view_name": "HBoxView",
                        "box_style": "",
                        "children": [
                            "IPY_MODEL_b0d71144c9a04c5b9c50fa603fd4fe2a",
                            "IPY_MODEL_9976fdc2d6cc4e4cba69ade071de958f",
                            "IPY_MODEL_ff7be293b0914be8b5cfc40ea4831b7c"
                        ],
                        "layout": "IPY_MODEL_a8ea2c9ffb3a41f58b50a5c6891f2861"
                    }
                },
                "73efe6f9ec6341e3b4fa1a5d72b6089e": {
                    "model_module": "@jupyter-widgets/base",
                    "model_module_version": "1.2.0",
                    "model_name": "LayoutModel",
                    "state": {
                        "_model_module": "@jupyter-widgets/base",
                        "_model_module_version": "1.2.0",
                        "_model_name": "LayoutModel",
                        "_view_count": null,
                        "_view_module": "@jupyter-widgets/base",
                        "_view_module_version": "1.2.0",
                        "_view_name": "LayoutView",
                        "align_content": null,
                        "align_items": null,
                        "align_self": null,
                        "border": null,
                        "bottom": null,
                        "display": null,
                        "flex": null,
                        "flex_flow": null,
                        "grid_area": null,
                        "grid_auto_columns": null,
                        "grid_auto_flow": null,
                        "grid_auto_rows": null,
                        "grid_column": null,
                        "grid_gap": null,
                        "grid_row": null,
                        "grid_template_areas": null,
                        "grid_template_columns": null,
                        "grid_template_rows": null,
                        "height": null,
                        "justify_content": null,
                        "justify_items": null,
                        "left": null,
                        "margin": null,
                        "max_height": null,
                        "max_width": null,
                        "min_height": null,
                        "min_width": null,
                        "object_fit": null,
                        "object_position": null,
                        "order": null,
                        "overflow": null,
                        "overflow_x": null,
                        "overflow_y": null,
                        "padding": null,
                        "right": null,
                        "top": null,
                        "visibility": null,
                        "width": null
                    }
                },
                "77ecb79e1e514c81897e4e7cae0bf7d6": {
                    "model_module": "@jupyter-widgets/controls",
                    "model_module_version": "1.5.0",
                    "model_name": "HBoxModel",
                    "state": {
                        "_dom_classes": [],
                        "_model_module": "@jupyter-widgets/controls",
                        "_model_module_version": "1.5.0",
                        "_model_name": "HBoxModel",
                        "_view_count": null,
                        "_view_module": "@jupyter-widgets/controls",
                        "_view_module_version": "1.5.0",
                        "_view_name": "HBoxView",
                        "box_style": "",
                        "children": [
                            "IPY_MODEL_b5e33283acf64301bfdfa96d3840d474",
                            "IPY_MODEL_f3181fc8fe41466a99e5389554e95113",
                            "IPY_MODEL_3d80170b57c4401fbe7710f373e2a4fd"
                        ],
                        "layout": "IPY_MODEL_dfa935dfcc52466eae0ce086bb4be9b4"
                    }
                },
                "78b8098d991442a3be84d1b6aec1973f": {
                    "model_module": "@jupyter-widgets/controls",
                    "model_module_version": "1.5.0",
                    "model_name": "DescriptionStyleModel",
                    "state": {
                        "_model_module": "@jupyter-widgets/controls",
                        "_model_module_version": "1.5.0",
                        "_model_name": "DescriptionStyleModel",
                        "_view_count": null,
                        "_view_module": "@jupyter-widgets/base",
                        "_view_module_version": "1.2.0",
                        "_view_name": "StyleView",
                        "description_width": ""
                    }
                },
                "7b6accd51fe04209a54fddb054d32c8f": {
                    "model_module": "@jupyter-widgets/controls",
                    "model_module_version": "1.5.0",
                    "model_name": "HTMLModel",
                    "state": {
                        "_dom_classes": [],
                        "_model_module": "@jupyter-widgets/controls",
                        "_model_module_version": "1.5.0",
                        "_model_name": "HTMLModel",
                        "_view_count": null,
                        "_view_module": "@jupyter-widgets/controls",
                        "_view_module_version": "1.5.0",
                        "_view_name": "HTMLView",
                        "description": "",
                        "description_tooltip": null,
                        "layout": "IPY_MODEL_851dd72892df4f57a0966d108281a0a8",
                        "placeholder": "​",
                        "style": "IPY_MODEL_ed0345a208a142dd9b077b31cd890478",
                        "value": " 140/140 [00:00&lt;00:00, 3367.28 examples/s]"
                    }
                },
                "7ee1abd40d7e471ea8e0d3e9aef59a0d": {
                    "model_module": "@jupyter-widgets/base",
                    "model_module_version": "1.2.0",
                    "model_name": "LayoutModel",
                    "state": {
                        "_model_module": "@jupyter-widgets/base",
                        "_model_module_version": "1.2.0",
                        "_model_name": "LayoutModel",
                        "_view_count": null,
                        "_view_module": "@jupyter-widgets/base",
                        "_view_module_version": "1.2.0",
                        "_view_name": "LayoutView",
                        "align_content": null,
                        "align_items": null,
                        "align_self": null,
                        "border": null,
                        "bottom": null,
                        "display": null,
                        "flex": null,
                        "flex_flow": null,
                        "grid_area": null,
                        "grid_auto_columns": null,
                        "grid_auto_flow": null,
                        "grid_auto_rows": null,
                        "grid_column": null,
                        "grid_gap": null,
                        "grid_row": null,
                        "grid_template_areas": null,
                        "grid_template_columns": null,
                        "grid_template_rows": null,
                        "height": null,
                        "justify_content": null,
                        "justify_items": null,
                        "left": null,
                        "margin": null,
                        "max_height": null,
                        "max_width": null,
                        "min_height": null,
                        "min_width": null,
                        "object_fit": null,
                        "object_position": null,
                        "order": null,
                        "overflow": null,
                        "overflow_x": null,
                        "overflow_y": null,
                        "padding": null,
                        "right": null,
                        "top": null,
                        "visibility": null,
                        "width": null
                    }
                },
                "801483308cca4385bdfda0af53a3c2dd": {
                    "model_module": "@jupyter-widgets/controls",
                    "model_module_version": "1.5.0",
                    "model_name": "HTMLModel",
                    "state": {
                        "_dom_classes": [],
                        "_model_module": "@jupyter-widgets/controls",
                        "_model_module_version": "1.5.0",
                        "_model_name": "HTMLModel",
                        "_view_count": null,
                        "_view_module": "@jupyter-widgets/controls",
                        "_view_module_version": "1.5.0",
                        "_view_name": "HTMLView",
                        "description": "",
                        "description_tooltip": null,
                        "layout": "IPY_MODEL_bce78a67b1ed4cd1ac83252eaa20ba96",
                        "placeholder": "​",
                        "style": "IPY_MODEL_f98efab2cb64414c8823ad6a3e4a942b",
                        "value": " 2/2 [00:00&lt;00:00, 65.47it/s]"
                    }
                },
                "822cb0eac16d49ba9b7755e7785403db": {
                    "model_module": "@jupyter-widgets/controls",
                    "model_module_version": "1.5.0",
                    "model_name": "ProgressStyleModel",
                    "state": {
                        "_model_module": "@jupyter-widgets/controls",
                        "_model_module_version": "1.5.0",
                        "_model_name": "ProgressStyleModel",
                        "_view_count": null,
                        "_view_module": "@jupyter-widgets/base",
                        "_view_module_version": "1.2.0",
                        "_view_name": "StyleView",
                        "bar_color": null,
                        "description_width": ""
                    }
                },
                "82674221ba934264a771f33400f48355": {
                    "model_module": "@jupyter-widgets/controls",
                    "model_module_version": "1.5.0",
                    "model_name": "HTMLModel",
                    "state": {
                        "_dom_classes": [],
                        "_model_module": "@jupyter-widgets/controls",
                        "_model_module_version": "1.5.0",
                        "_model_name": "HTMLModel",
                        "_view_count": null,
                        "_view_module": "@jupyter-widgets/controls",
                        "_view_module_version": "1.5.0",
                        "_view_name": "HTMLView",
                        "description": "",
                        "description_tooltip": null,
                        "layout": "IPY_MODEL_54d7f9b6319c4ff59f3296c4a18af352",
                        "placeholder": "​",
                        "style": "IPY_MODEL_8575b19028a74f8a8b7f7a9b7b64693e",
                        "value": "Extracting data files: 100%"
                    }
                },
                "83b7bfc6a35d4d65bc6cf43b26ddc6d5": {
                    "model_module": "@jupyter-widgets/base",
                    "model_module_version": "1.2.0",
                    "model_name": "LayoutModel",
                    "state": {
                        "_model_module": "@jupyter-widgets/base",
                        "_model_module_version": "1.2.0",
                        "_model_name": "LayoutModel",
                        "_view_count": null,
                        "_view_module": "@jupyter-widgets/base",
                        "_view_module_version": "1.2.0",
                        "_view_name": "LayoutView",
                        "align_content": null,
                        "align_items": null,
                        "align_self": null,
                        "border": null,
                        "bottom": null,
                        "display": null,
                        "flex": null,
                        "flex_flow": null,
                        "grid_area": null,
                        "grid_auto_columns": null,
                        "grid_auto_flow": null,
                        "grid_auto_rows": null,
                        "grid_column": null,
                        "grid_gap": null,
                        "grid_row": null,
                        "grid_template_areas": null,
                        "grid_template_columns": null,
                        "grid_template_rows": null,
                        "height": null,
                        "justify_content": null,
                        "justify_items": null,
                        "left": null,
                        "margin": null,
                        "max_height": null,
                        "max_width": null,
                        "min_height": null,
                        "min_width": null,
                        "object_fit": null,
                        "object_position": null,
                        "order": null,
                        "overflow": null,
                        "overflow_x": null,
                        "overflow_y": null,
                        "padding": null,
                        "right": null,
                        "top": null,
                        "visibility": null,
                        "width": null
                    }
                },
                "851dd72892df4f57a0966d108281a0a8": {
                    "model_module": "@jupyter-widgets/base",
                    "model_module_version": "1.2.0",
                    "model_name": "LayoutModel",
                    "state": {
                        "_model_module": "@jupyter-widgets/base",
                        "_model_module_version": "1.2.0",
                        "_model_name": "LayoutModel",
                        "_view_count": null,
                        "_view_module": "@jupyter-widgets/base",
                        "_view_module_version": "1.2.0",
                        "_view_name": "LayoutView",
                        "align_content": null,
                        "align_items": null,
                        "align_self": null,
                        "border": null,
                        "bottom": null,
                        "display": null,
                        "flex": null,
                        "flex_flow": null,
                        "grid_area": null,
                        "grid_auto_columns": null,
                        "grid_auto_flow": null,
                        "grid_auto_rows": null,
                        "grid_column": null,
                        "grid_gap": null,
                        "grid_row": null,
                        "grid_template_areas": null,
                        "grid_template_columns": null,
                        "grid_template_rows": null,
                        "height": null,
                        "justify_content": null,
                        "justify_items": null,
                        "left": null,
                        "margin": null,
                        "max_height": null,
                        "max_width": null,
                        "min_height": null,
                        "min_width": null,
                        "object_fit": null,
                        "object_position": null,
                        "order": null,
                        "overflow": null,
                        "overflow_x": null,
                        "overflow_y": null,
                        "padding": null,
                        "right": null,
                        "top": null,
                        "visibility": null,
                        "width": null
                    }
                },
                "8575b19028a74f8a8b7f7a9b7b64693e": {
                    "model_module": "@jupyter-widgets/controls",
                    "model_module_version": "1.5.0",
                    "model_name": "DescriptionStyleModel",
                    "state": {
                        "_model_module": "@jupyter-widgets/controls",
                        "_model_module_version": "1.5.0",
                        "_model_name": "DescriptionStyleModel",
                        "_view_count": null,
                        "_view_module": "@jupyter-widgets/base",
                        "_view_module_version": "1.2.0",
                        "_view_name": "StyleView",
                        "description_width": ""
                    }
                },
                "88ab1bf634ef48c1a7c062530783eb2e": {
                    "model_module": "@jupyter-widgets/base",
                    "model_module_version": "1.2.0",
                    "model_name": "LayoutModel",
                    "state": {
                        "_model_module": "@jupyter-widgets/base",
                        "_model_module_version": "1.2.0",
                        "_model_name": "LayoutModel",
                        "_view_count": null,
                        "_view_module": "@jupyter-widgets/base",
                        "_view_module_version": "1.2.0",
                        "_view_name": "LayoutView",
                        "align_content": null,
                        "align_items": null,
                        "align_self": null,
                        "border": null,
                        "bottom": null,
                        "display": null,
                        "flex": null,
                        "flex_flow": null,
                        "grid_area": null,
                        "grid_auto_columns": null,
                        "grid_auto_flow": null,
                        "grid_auto_rows": null,
                        "grid_column": null,
                        "grid_gap": null,
                        "grid_row": null,
                        "grid_template_areas": null,
                        "grid_template_columns": null,
                        "grid_template_rows": null,
                        "height": null,
                        "justify_content": null,
                        "justify_items": null,
                        "left": null,
                        "margin": null,
                        "max_height": null,
                        "max_width": null,
                        "min_height": null,
                        "min_width": null,
                        "object_fit": null,
                        "object_position": null,
                        "order": null,
                        "overflow": null,
                        "overflow_x": null,
                        "overflow_y": null,
                        "padding": null,
                        "right": null,
                        "top": null,
                        "visibility": null,
                        "width": null
                    }
                },
                "890882a4891942548135ae361ad731c2": {
                    "model_module": "@jupyter-widgets/controls",
                    "model_module_version": "1.5.0",
                    "model_name": "HTMLModel",
                    "state": {
                        "_dom_classes": [],
                        "_model_module": "@jupyter-widgets/controls",
                        "_model_module_version": "1.5.0",
                        "_model_name": "HTMLModel",
                        "_view_count": null,
                        "_view_module": "@jupyter-widgets/controls",
                        "_view_module_version": "1.5.0",
                        "_view_name": "HTMLView",
                        "description": "",
                        "description_tooltip": null,
                        "layout": "IPY_MODEL_e6b565f0b93a4ca98b0851050c8bb298",
                        "placeholder": "​",
                        "style": "IPY_MODEL_386e9e99a6a040abac9b3b7d106aec6b",
                        "value": " 14.2k/14.2k [00:00&lt;00:00, 8.78kB/s]"
                    }
                },
                "8b559554d99741baa15099170cb88032": {
                    "model_module": "@jupyter-widgets/controls",
                    "model_module_version": "1.5.0",
                    "model_name": "FloatProgressModel",
                    "state": {
                        "_dom_classes": [],
                        "_model_module": "@jupyter-widgets/controls",
                        "_model_module_version": "1.5.0",
                        "_model_name": "FloatProgressModel",
                        "_view_count": null,
                        "_view_module": "@jupyter-widgets/controls",
                        "_view_module_version": "1.5.0",
                        "_view_name": "ProgressView",
                        "bar_style": "success",
                        "description": "",
                        "description_tooltip": null,
                        "layout": "IPY_MODEL_b2992394d8804669930b256a846c4869",
                        "max": 14225,
                        "min": 0,
                        "orientation": "horizontal",
                        "style": "IPY_MODEL_047fdf3d270f4bf88a7f4118da18c77f",
                        "value": 14225
                    }
                },
                "8fc91035bd4e493da805823bfbc6bfe4": {
                    "model_module": "@jupyter-widgets/base",
                    "model_module_version": "1.2.0",
                    "model_name": "LayoutModel",
                    "state": {
                        "_model_module": "@jupyter-widgets/base",
                        "_model_module_version": "1.2.0",
                        "_model_name": "LayoutModel",
                        "_view_count": null,
                        "_view_module": "@jupyter-widgets/base",
                        "_view_module_version": "1.2.0",
                        "_view_name": "LayoutView",
                        "align_content": null,
                        "align_items": null,
                        "align_self": null,
                        "border": null,
                        "bottom": null,
                        "display": null,
                        "flex": null,
                        "flex_flow": null,
                        "grid_area": null,
                        "grid_auto_columns": null,
                        "grid_auto_flow": null,
                        "grid_auto_rows": null,
                        "grid_column": null,
                        "grid_gap": null,
                        "grid_row": null,
                        "grid_template_areas": null,
                        "grid_template_columns": null,
                        "grid_template_rows": null,
                        "height": null,
                        "justify_content": null,
                        "justify_items": null,
                        "left": null,
                        "margin": null,
                        "max_height": null,
                        "max_width": null,
                        "min_height": null,
                        "min_width": null,
                        "object_fit": null,
                        "object_position": null,
                        "order": null,
                        "overflow": null,
                        "overflow_x": null,
                        "overflow_y": null,
                        "padding": null,
                        "right": null,
                        "top": null,
                        "visibility": null,
                        "width": null
                    }
                },
                "98c2b36767184aa69eb1335932e342e0": {
                    "model_module": "@jupyter-widgets/base",
                    "model_module_version": "1.2.0",
                    "model_name": "LayoutModel",
                    "state": {
                        "_model_module": "@jupyter-widgets/base",
                        "_model_module_version": "1.2.0",
                        "_model_name": "LayoutModel",
                        "_view_count": null,
                        "_view_module": "@jupyter-widgets/base",
                        "_view_module_version": "1.2.0",
                        "_view_name": "LayoutView",
                        "align_content": null,
                        "align_items": null,
                        "align_self": null,
                        "border": null,
                        "bottom": null,
                        "display": null,
                        "flex": null,
                        "flex_flow": null,
                        "grid_area": null,
                        "grid_auto_columns": null,
                        "grid_auto_flow": null,
                        "grid_auto_rows": null,
                        "grid_column": null,
                        "grid_gap": null,
                        "grid_row": null,
                        "grid_template_areas": null,
                        "grid_template_columns": null,
                        "grid_template_rows": null,
                        "height": null,
                        "justify_content": null,
                        "justify_items": null,
                        "left": null,
                        "margin": null,
                        "max_height": null,
                        "max_width": null,
                        "min_height": null,
                        "min_width": null,
                        "object_fit": null,
                        "object_position": null,
                        "order": null,
                        "overflow": null,
                        "overflow_x": null,
                        "overflow_y": null,
                        "padding": null,
                        "right": null,
                        "top": null,
                        "visibility": null,
                        "width": null
                    }
                },
                "9976fdc2d6cc4e4cba69ade071de958f": {
                    "model_module": "@jupyter-widgets/controls",
                    "model_module_version": "1.5.0",
                    "model_name": "FloatProgressModel",
                    "state": {
                        "_dom_classes": [],
                        "_model_module": "@jupyter-widgets/controls",
                        "_model_module_version": "1.5.0",
                        "_model_name": "FloatProgressModel",
                        "_view_count": null,
                        "_view_module": "@jupyter-widgets/controls",
                        "_view_module_version": "1.5.0",
                        "_view_name": "ProgressView",
                        "bar_style": "success",
                        "description": "",
                        "description_tooltip": null,
                        "layout": "IPY_MODEL_547559a5534945a994a78581da8d227c",
                        "max": 9528,
                        "min": 0,
                        "orientation": "horizontal",
                        "style": "IPY_MODEL_aba53e2fc4b64fd984abf96a474447a1",
                        "value": 9528
                    }
                },
                "9a1de3dd22b3433690a97ebe951201f3": {
                    "model_module": "@jupyter-widgets/controls",
                    "model_module_version": "1.5.0",
                    "model_name": "HTMLModel",
                    "state": {
                        "_dom_classes": [],
                        "_model_module": "@jupyter-widgets/controls",
                        "_model_module_version": "1.5.0",
                        "_model_name": "HTMLModel",
                        "_view_count": null,
                        "_view_module": "@jupyter-widgets/controls",
                        "_view_module_version": "1.5.0",
                        "_view_name": "HTMLView",
                        "description": "",
                        "description_tooltip": null,
                        "layout": "IPY_MODEL_4e9002860aba496b8ec3a531dfb930ef",
                        "placeholder": "​",
                        "style": "IPY_MODEL_43cbdd84aac249c4a338332fcdb47ff4",
                        "value": " 83.7k/83.7k [00:00&lt;00:00, 248kB/s]"
                    }
                },
                "9b74c1d6cc9347e78527d55252dc1bf7": {
                    "model_module": "@jupyter-widgets/controls",
                    "model_module_version": "1.5.0",
                    "model_name": "HBoxModel",
                    "state": {
                        "_dom_classes": [],
                        "_model_module": "@jupyter-widgets/controls",
                        "_model_module_version": "1.5.0",
                        "_model_name": "HBoxModel",
                        "_view_count": null,
                        "_view_module": "@jupyter-widgets/controls",
                        "_view_module_version": "1.5.0",
                        "_view_name": "HBoxView",
                        "box_style": "",
                        "children": [
                            "IPY_MODEL_4dfd53e3963e4f7f868b2074c08f6f00",
                            "IPY_MODEL_ead64f9d0cc44ebaa9924c5fa5792e9e",
                            "IPY_MODEL_bcba2836350e4770ae7566d4ef93d810"
                        ],
                        "layout": "IPY_MODEL_fe9b186a194b4c409337e5731c9ccd2b"
                    }
                },
                "a117e78c14a34feba1279c804afe18e7": {
                    "model_module": "@jupyter-widgets/controls",
                    "model_module_version": "1.5.0",
                    "model_name": "DescriptionStyleModel",
                    "state": {
                        "_model_module": "@jupyter-widgets/controls",
                        "_model_module_version": "1.5.0",
                        "_model_name": "DescriptionStyleModel",
                        "_view_count": null,
                        "_view_module": "@jupyter-widgets/base",
                        "_view_module_version": "1.2.0",
                        "_view_name": "StyleView",
                        "description_width": ""
                    }
                },
                "a2ceaa67922d445aad0bf021c3a4afd1": {
                    "model_module": "@jupyter-widgets/base",
                    "model_module_version": "1.2.0",
                    "model_name": "LayoutModel",
                    "state": {
                        "_model_module": "@jupyter-widgets/base",
                        "_model_module_version": "1.2.0",
                        "_model_name": "LayoutModel",
                        "_view_count": null,
                        "_view_module": "@jupyter-widgets/base",
                        "_view_module_version": "1.2.0",
                        "_view_name": "LayoutView",
                        "align_content": null,
                        "align_items": null,
                        "align_self": null,
                        "border": null,
                        "bottom": null,
                        "display": null,
                        "flex": null,
                        "flex_flow": null,
                        "grid_area": null,
                        "grid_auto_columns": null,
                        "grid_auto_flow": null,
                        "grid_auto_rows": null,
                        "grid_column": null,
                        "grid_gap": null,
                        "grid_row": null,
                        "grid_template_areas": null,
                        "grid_template_columns": null,
                        "grid_template_rows": null,
                        "height": null,
                        "justify_content": null,
                        "justify_items": null,
                        "left": null,
                        "margin": null,
                        "max_height": null,
                        "max_width": null,
                        "min_height": null,
                        "min_width": null,
                        "object_fit": null,
                        "object_position": null,
                        "order": null,
                        "overflow": null,
                        "overflow_x": null,
                        "overflow_y": null,
                        "padding": null,
                        "right": null,
                        "top": null,
                        "visibility": null,
                        "width": null
                    }
                },
                "a33edde3e06a4e1ab9f5292d9828bb88": {
                    "model_module": "@jupyter-widgets/base",
                    "model_module_version": "1.2.0",
                    "model_name": "LayoutModel",
                    "state": {
                        "_model_module": "@jupyter-widgets/base",
                        "_model_module_version": "1.2.0",
                        "_model_name": "LayoutModel",
                        "_view_count": null,
                        "_view_module": "@jupyter-widgets/base",
                        "_view_module_version": "1.2.0",
                        "_view_name": "LayoutView",
                        "align_content": null,
                        "align_items": null,
                        "align_self": null,
                        "border": null,
                        "bottom": null,
                        "display": null,
                        "flex": null,
                        "flex_flow": null,
                        "grid_area": null,
                        "grid_auto_columns": null,
                        "grid_auto_flow": null,
                        "grid_auto_rows": null,
                        "grid_column": null,
                        "grid_gap": null,
                        "grid_row": null,
                        "grid_template_areas": null,
                        "grid_template_columns": null,
                        "grid_template_rows": null,
                        "height": null,
                        "justify_content": null,
                        "justify_items": null,
                        "left": null,
                        "margin": null,
                        "max_height": null,
                        "max_width": null,
                        "min_height": null,
                        "min_width": null,
                        "object_fit": null,
                        "object_position": null,
                        "order": null,
                        "overflow": null,
                        "overflow_x": null,
                        "overflow_y": null,
                        "padding": null,
                        "right": null,
                        "top": null,
                        "visibility": null,
                        "width": null
                    }
                },
                "a4740a1b11d34096ac87bec0abc50b1f": {
                    "model_module": "@jupyter-widgets/controls",
                    "model_module_version": "1.5.0",
                    "model_name": "DescriptionStyleModel",
                    "state": {
                        "_model_module": "@jupyter-widgets/controls",
                        "_model_module_version": "1.5.0",
                        "_model_name": "DescriptionStyleModel",
                        "_view_count": null,
                        "_view_module": "@jupyter-widgets/base",
                        "_view_module_version": "1.2.0",
                        "_view_name": "StyleView",
                        "description_width": ""
                    }
                },
                "a7c7693e253a45f5b9355f538ca738c1": {
                    "model_module": "@jupyter-widgets/controls",
                    "model_module_version": "1.5.0",
                    "model_name": "HBoxModel",
                    "state": {
                        "_dom_classes": [],
                        "_model_module": "@jupyter-widgets/controls",
                        "_model_module_version": "1.5.0",
                        "_model_name": "HBoxModel",
                        "_view_count": null,
                        "_view_module": "@jupyter-widgets/controls",
                        "_view_module_version": "1.5.0",
                        "_view_name": "HBoxView",
                        "box_style": "",
                        "children": [
                            "IPY_MODEL_4ce8885841844ba68b3dc2e7b0f0a7e8",
                            "IPY_MODEL_4ae4a21026c94828a2722f071b7fc4aa",
                            "IPY_MODEL_7b6accd51fe04209a54fddb054d32c8f"
                        ],
                        "layout": "IPY_MODEL_049fddffb97047a1a0ee50b50fb14819"
                    }
                },
                "a8ea2c9ffb3a41f58b50a5c6891f2861": {
                    "model_module": "@jupyter-widgets/base",
                    "model_module_version": "1.2.0",
                    "model_name": "LayoutModel",
                    "state": {
                        "_model_module": "@jupyter-widgets/base",
                        "_model_module_version": "1.2.0",
                        "_model_name": "LayoutModel",
                        "_view_count": null,
                        "_view_module": "@jupyter-widgets/base",
                        "_view_module_version": "1.2.0",
                        "_view_name": "LayoutView",
                        "align_content": null,
                        "align_items": null,
                        "align_self": null,
                        "border": null,
                        "bottom": null,
                        "display": null,
                        "flex": null,
                        "flex_flow": null,
                        "grid_area": null,
                        "grid_auto_columns": null,
                        "grid_auto_flow": null,
                        "grid_auto_rows": null,
                        "grid_column": null,
                        "grid_gap": null,
                        "grid_row": null,
                        "grid_template_areas": null,
                        "grid_template_columns": null,
                        "grid_template_rows": null,
                        "height": null,
                        "justify_content": null,
                        "justify_items": null,
                        "left": null,
                        "margin": null,
                        "max_height": null,
                        "max_width": null,
                        "min_height": null,
                        "min_width": null,
                        "object_fit": null,
                        "object_position": null,
                        "order": null,
                        "overflow": null,
                        "overflow_x": null,
                        "overflow_y": null,
                        "padding": null,
                        "right": null,
                        "top": null,
                        "visibility": null,
                        "width": null
                    }
                },
                "aba53e2fc4b64fd984abf96a474447a1": {
                    "model_module": "@jupyter-widgets/controls",
                    "model_module_version": "1.5.0",
                    "model_name": "ProgressStyleModel",
                    "state": {
                        "_model_module": "@jupyter-widgets/controls",
                        "_model_module_version": "1.5.0",
                        "_model_name": "ProgressStyleModel",
                        "_view_count": null,
                        "_view_module": "@jupyter-widgets/base",
                        "_view_module_version": "1.2.0",
                        "_view_name": "StyleView",
                        "bar_color": null,
                        "description_width": ""
                    }
                },
                "b0d71144c9a04c5b9c50fa603fd4fe2a": {
                    "model_module": "@jupyter-widgets/controls",
                    "model_module_version": "1.5.0",
                    "model_name": "HTMLModel",
                    "state": {
                        "_dom_classes": [],
                        "_model_module": "@jupyter-widgets/controls",
                        "_model_module_version": "1.5.0",
                        "_model_name": "HTMLModel",
                        "_view_count": null,
                        "_view_module": "@jupyter-widgets/controls",
                        "_view_module_version": "1.5.0",
                        "_view_name": "HTMLView",
                        "description": "",
                        "description_tooltip": null,
                        "layout": "IPY_MODEL_d42bdbcc10724273b5ec89175f4d6826",
                        "placeholder": "​",
                        "style": "IPY_MODEL_d3396bdc2fbc4bfeb80dce05c9817897",
                        "value": "Downloading builder script: 100%"
                    }
                },
                "b1ad6430c4c7494790ea13d48a6859b2": {
                    "model_module": "@jupyter-widgets/controls",
                    "model_module_version": "1.5.0",
                    "model_name": "ProgressStyleModel",
                    "state": {
                        "_model_module": "@jupyter-widgets/controls",
                        "_model_module_version": "1.5.0",
                        "_model_name": "ProgressStyleModel",
                        "_view_count": null,
                        "_view_module": "@jupyter-widgets/base",
                        "_view_module_version": "1.2.0",
                        "_view_name": "StyleView",
                        "bar_color": null,
                        "description_width": ""
                    }
                },
                "b2992394d8804669930b256a846c4869": {
                    "model_module": "@jupyter-widgets/base",
                    "model_module_version": "1.2.0",
                    "model_name": "LayoutModel",
                    "state": {
                        "_model_module": "@jupyter-widgets/base",
                        "_model_module_version": "1.2.0",
                        "_model_name": "LayoutModel",
                        "_view_count": null,
                        "_view_module": "@jupyter-widgets/base",
                        "_view_module_version": "1.2.0",
                        "_view_name": "LayoutView",
                        "align_content": null,
                        "align_items": null,
                        "align_self": null,
                        "border": null,
                        "bottom": null,
                        "display": null,
                        "flex": null,
                        "flex_flow": null,
                        "grid_area": null,
                        "grid_auto_columns": null,
                        "grid_auto_flow": null,
                        "grid_auto_rows": null,
                        "grid_column": null,
                        "grid_gap": null,
                        "grid_row": null,
                        "grid_template_areas": null,
                        "grid_template_columns": null,
                        "grid_template_rows": null,
                        "height": null,
                        "justify_content": null,
                        "justify_items": null,
                        "left": null,
                        "margin": null,
                        "max_height": null,
                        "max_width": null,
                        "min_height": null,
                        "min_width": null,
                        "object_fit": null,
                        "object_position": null,
                        "order": null,
                        "overflow": null,
                        "overflow_x": null,
                        "overflow_y": null,
                        "padding": null,
                        "right": null,
                        "top": null,
                        "visibility": null,
                        "width": null
                    }
                },
                "b3f76afc0b154f09b50332641caad632": {
                    "model_module": "@jupyter-widgets/base",
                    "model_module_version": "1.2.0",
                    "model_name": "LayoutModel",
                    "state": {
                        "_model_module": "@jupyter-widgets/base",
                        "_model_module_version": "1.2.0",
                        "_model_name": "LayoutModel",
                        "_view_count": null,
                        "_view_module": "@jupyter-widgets/base",
                        "_view_module_version": "1.2.0",
                        "_view_name": "LayoutView",
                        "align_content": null,
                        "align_items": null,
                        "align_self": null,
                        "border": null,
                        "bottom": null,
                        "display": null,
                        "flex": null,
                        "flex_flow": null,
                        "grid_area": null,
                        "grid_auto_columns": null,
                        "grid_auto_flow": null,
                        "grid_auto_rows": null,
                        "grid_column": null,
                        "grid_gap": null,
                        "grid_row": null,
                        "grid_template_areas": null,
                        "grid_template_columns": null,
                        "grid_template_rows": null,
                        "height": null,
                        "justify_content": null,
                        "justify_items": null,
                        "left": null,
                        "margin": null,
                        "max_height": null,
                        "max_width": null,
                        "min_height": null,
                        "min_width": null,
                        "object_fit": null,
                        "object_position": null,
                        "order": null,
                        "overflow": null,
                        "overflow_x": null,
                        "overflow_y": null,
                        "padding": null,
                        "right": null,
                        "top": null,
                        "visibility": null,
                        "width": null
                    }
                },
                "b4c762cf527f494dabcb4ffe4643fef8": {
                    "model_module": "@jupyter-widgets/controls",
                    "model_module_version": "1.5.0",
                    "model_name": "HTMLModel",
                    "state": {
                        "_dom_classes": [],
                        "_model_module": "@jupyter-widgets/controls",
                        "_model_module_version": "1.5.0",
                        "_model_name": "HTMLModel",
                        "_view_count": null,
                        "_view_module": "@jupyter-widgets/controls",
                        "_view_module_version": "1.5.0",
                        "_view_name": "HTMLView",
                        "description": "",
                        "description_tooltip": null,
                        "layout": "IPY_MODEL_29d3c367dab9400f817331d768ef3e9f",
                        "placeholder": "​",
                        "style": "IPY_MODEL_07ba1e18e0144d40983bffe1de10dd0a",
                        "value": " 2/2 [00:00&lt;00:00,  2.27it/s]"
                    }
                },
                "b5e33283acf64301bfdfa96d3840d474": {
                    "model_module": "@jupyter-widgets/controls",
                    "model_module_version": "1.5.0",
                    "model_name": "HTMLModel",
                    "state": {
                        "_dom_classes": [],
                        "_model_module": "@jupyter-widgets/controls",
                        "_model_module_version": "1.5.0",
                        "_model_name": "HTMLModel",
                        "_view_count": null,
                        "_view_module": "@jupyter-widgets/controls",
                        "_view_module_version": "1.5.0",
                        "_view_name": "HTMLView",
                        "description": "",
                        "description_tooltip": null,
                        "layout": "IPY_MODEL_d9a0803cde9d41289d4562ca591c3e62",
                        "placeholder": "​",
                        "style": "IPY_MODEL_19cecde4bacd4a5988fa63096022f064",
                        "value": "Generating train split: 100%"
                    }
                },
                "b9840c6b5845445fbfc4cdbca5c23be8": {
                    "model_module": "@jupyter-widgets/controls",
                    "model_module_version": "1.5.0",
                    "model_name": "HTMLModel",
                    "state": {
                        "_dom_classes": [],
                        "_model_module": "@jupyter-widgets/controls",
                        "_model_module_version": "1.5.0",
                        "_model_name": "HTMLModel",
                        "_view_count": null,
                        "_view_module": "@jupyter-widgets/controls",
                        "_view_module_version": "1.5.0",
                        "_view_name": "HTMLView",
                        "description": "",
                        "description_tooltip": null,
                        "layout": "IPY_MODEL_397d08517afd42d6ab48c9ebddb2dd55",
                        "placeholder": "​",
                        "style": "IPY_MODEL_6bf62902aa91468ea7912ed174ba9244",
                        "value": " 577/577 [00:00&lt;00:00, 24.6kB/s]"
                    }
                },
                "bcba2836350e4770ae7566d4ef93d810": {
                    "model_module": "@jupyter-widgets/controls",
                    "model_module_version": "1.5.0",
                    "model_name": "HTMLModel",
                    "state": {
                        "_dom_classes": [],
                        "_model_module": "@jupyter-widgets/controls",
                        "_model_module_version": "1.5.0",
                        "_model_name": "HTMLModel",
                        "_view_count": null,
                        "_view_module": "@jupyter-widgets/controls",
                        "_view_module_version": "1.5.0",
                        "_view_name": "HTMLView",
                        "description": "",
                        "description_tooltip": null,
                        "layout": "IPY_MODEL_300d75910ebc49f7b2e13a5381b6f5a0",
                        "placeholder": "​",
                        "style": "IPY_MODEL_c5e892714f0941109f12c739d5c4fe0f",
                        "value": " 615k/615k [00:00&lt;00:00, 1.15MB/s]"
                    }
                },
                "bcc52307c76e453b8888b818e898dd48": {
                    "model_module": "@jupyter-widgets/controls",
                    "model_module_version": "1.5.0",
                    "model_name": "FloatProgressModel",
                    "state": {
                        "_dom_classes": [],
                        "_model_module": "@jupyter-widgets/controls",
                        "_model_module_version": "1.5.0",
                        "_model_name": "FloatProgressModel",
                        "_view_count": null,
                        "_view_module": "@jupyter-widgets/controls",
                        "_view_module_version": "1.5.0",
                        "_view_name": "ProgressView",
                        "bar_style": "success",
                        "description": "",
                        "description_tooltip": null,
                        "layout": "IPY_MODEL_02dd1466359040b2b9abf121fe6afc21",
                        "max": 2,
                        "min": 0,
                        "orientation": "horizontal",
                        "style": "IPY_MODEL_822cb0eac16d49ba9b7755e7785403db",
                        "value": 2
                    }
                },
                "bce78a67b1ed4cd1ac83252eaa20ba96": {
                    "model_module": "@jupyter-widgets/base",
                    "model_module_version": "1.2.0",
                    "model_name": "LayoutModel",
                    "state": {
                        "_model_module": "@jupyter-widgets/base",
                        "_model_module_version": "1.2.0",
                        "_model_name": "LayoutModel",
                        "_view_count": null,
                        "_view_module": "@jupyter-widgets/base",
                        "_view_module_version": "1.2.0",
                        "_view_name": "LayoutView",
                        "align_content": null,
                        "align_items": null,
                        "align_self": null,
                        "border": null,
                        "bottom": null,
                        "display": null,
                        "flex": null,
                        "flex_flow": null,
                        "grid_area": null,
                        "grid_auto_columns": null,
                        "grid_auto_flow": null,
                        "grid_auto_rows": null,
                        "grid_column": null,
                        "grid_gap": null,
                        "grid_row": null,
                        "grid_template_areas": null,
                        "grid_template_columns": null,
                        "grid_template_rows": null,
                        "height": null,
                        "justify_content": null,
                        "justify_items": null,
                        "left": null,
                        "margin": null,
                        "max_height": null,
                        "max_width": null,
                        "min_height": null,
                        "min_width": null,
                        "object_fit": null,
                        "object_position": null,
                        "order": null,
                        "overflow": null,
                        "overflow_x": null,
                        "overflow_y": null,
                        "padding": null,
                        "right": null,
                        "top": null,
                        "visibility": null,
                        "width": null
                    }
                },
                "bff34a8843494bdebe0fa50f4afdc469": {
                    "model_module": "@jupyter-widgets/controls",
                    "model_module_version": "1.5.0",
                    "model_name": "DescriptionStyleModel",
                    "state": {
                        "_model_module": "@jupyter-widgets/controls",
                        "_model_module_version": "1.5.0",
                        "_model_name": "DescriptionStyleModel",
                        "_view_count": null,
                        "_view_module": "@jupyter-widgets/base",
                        "_view_module_version": "1.2.0",
                        "_view_name": "StyleView",
                        "description_width": ""
                    }
                },
                "c2555aa5eb274eb985e6f254fc1f526d": {
                    "model_module": "@jupyter-widgets/controls",
                    "model_module_version": "1.5.0",
                    "model_name": "ProgressStyleModel",
                    "state": {
                        "_model_module": "@jupyter-widgets/controls",
                        "_model_module_version": "1.5.0",
                        "_model_name": "ProgressStyleModel",
                        "_view_count": null,
                        "_view_module": "@jupyter-widgets/base",
                        "_view_module_version": "1.2.0",
                        "_view_name": "StyleView",
                        "bar_color": null,
                        "description_width": ""
                    }
                },
                "c3fb20b52379441cb506afebe4a11d50": {
                    "model_module": "@jupyter-widgets/base",
                    "model_module_version": "1.2.0",
                    "model_name": "LayoutModel",
                    "state": {
                        "_model_module": "@jupyter-widgets/base",
                        "_model_module_version": "1.2.0",
                        "_model_name": "LayoutModel",
                        "_view_count": null,
                        "_view_module": "@jupyter-widgets/base",
                        "_view_module_version": "1.2.0",
                        "_view_name": "LayoutView",
                        "align_content": null,
                        "align_items": null,
                        "align_self": null,
                        "border": null,
                        "bottom": null,
                        "display": null,
                        "flex": null,
                        "flex_flow": null,
                        "grid_area": null,
                        "grid_auto_columns": null,
                        "grid_auto_flow": null,
                        "grid_auto_rows": null,
                        "grid_column": null,
                        "grid_gap": null,
                        "grid_row": null,
                        "grid_template_areas": null,
                        "grid_template_columns": null,
                        "grid_template_rows": null,
                        "height": null,
                        "justify_content": null,
                        "justify_items": null,
                        "left": null,
                        "margin": null,
                        "max_height": null,
                        "max_width": null,
                        "min_height": null,
                        "min_width": null,
                        "object_fit": null,
                        "object_position": null,
                        "order": null,
                        "overflow": null,
                        "overflow_x": null,
                        "overflow_y": null,
                        "padding": null,
                        "right": null,
                        "top": null,
                        "visibility": null,
                        "width": null
                    }
                },
                "c5e892714f0941109f12c739d5c4fe0f": {
                    "model_module": "@jupyter-widgets/controls",
                    "model_module_version": "1.5.0",
                    "model_name": "DescriptionStyleModel",
                    "state": {
                        "_model_module": "@jupyter-widgets/controls",
                        "_model_module_version": "1.5.0",
                        "_model_name": "DescriptionStyleModel",
                        "_view_count": null,
                        "_view_module": "@jupyter-widgets/base",
                        "_view_module_version": "1.2.0",
                        "_view_name": "StyleView",
                        "description_width": ""
                    }
                },
                "cfabaca567c04ec5bf74a49a73e4adb2": {
                    "model_module": "@jupyter-widgets/controls",
                    "model_module_version": "1.5.0",
                    "model_name": "FloatProgressModel",
                    "state": {
                        "_dom_classes": [],
                        "_model_module": "@jupyter-widgets/controls",
                        "_model_module_version": "1.5.0",
                        "_model_name": "FloatProgressModel",
                        "_view_count": null,
                        "_view_module": "@jupyter-widgets/controls",
                        "_view_module_version": "1.5.0",
                        "_view_name": "ProgressView",
                        "bar_style": "success",
                        "description": "",
                        "description_tooltip": null,
                        "layout": "IPY_MODEL_f14a394f21e146a3bacf3ac5107bafb4",
                        "max": 83671,
                        "min": 0,
                        "orientation": "horizontal",
                        "style": "IPY_MODEL_323f452344ae4b5b9c95a29b37ae7a4d",
                        "value": 83671
                    }
                },
                "d253b03ae47443d5a7d261611179780b": {
                    "model_module": "@jupyter-widgets/base",
                    "model_module_version": "1.2.0",
                    "model_name": "LayoutModel",
                    "state": {
                        "_model_module": "@jupyter-widgets/base",
                        "_model_module_version": "1.2.0",
                        "_model_name": "LayoutModel",
                        "_view_count": null,
                        "_view_module": "@jupyter-widgets/base",
                        "_view_module_version": "1.2.0",
                        "_view_name": "LayoutView",
                        "align_content": null,
                        "align_items": null,
                        "align_self": null,
                        "border": null,
                        "bottom": null,
                        "display": null,
                        "flex": null,
                        "flex_flow": null,
                        "grid_area": null,
                        "grid_auto_columns": null,
                        "grid_auto_flow": null,
                        "grid_auto_rows": null,
                        "grid_column": null,
                        "grid_gap": null,
                        "grid_row": null,
                        "grid_template_areas": null,
                        "grid_template_columns": null,
                        "grid_template_rows": null,
                        "height": null,
                        "justify_content": null,
                        "justify_items": null,
                        "left": null,
                        "margin": null,
                        "max_height": null,
                        "max_width": null,
                        "min_height": null,
                        "min_width": null,
                        "object_fit": null,
                        "object_position": null,
                        "order": null,
                        "overflow": null,
                        "overflow_x": null,
                        "overflow_y": null,
                        "padding": null,
                        "right": null,
                        "top": null,
                        "visibility": null,
                        "width": null
                    }
                },
                "d3396bdc2fbc4bfeb80dce05c9817897": {
                    "model_module": "@jupyter-widgets/controls",
                    "model_module_version": "1.5.0",
                    "model_name": "DescriptionStyleModel",
                    "state": {
                        "_model_module": "@jupyter-widgets/controls",
                        "_model_module_version": "1.5.0",
                        "_model_name": "DescriptionStyleModel",
                        "_view_count": null,
                        "_view_module": "@jupyter-widgets/base",
                        "_view_module_version": "1.2.0",
                        "_view_name": "StyleView",
                        "description_width": ""
                    }
                },
                "d42bdbcc10724273b5ec89175f4d6826": {
                    "model_module": "@jupyter-widgets/base",
                    "model_module_version": "1.2.0",
                    "model_name": "LayoutModel",
                    "state": {
                        "_model_module": "@jupyter-widgets/base",
                        "_model_module_version": "1.2.0",
                        "_model_name": "LayoutModel",
                        "_view_count": null,
                        "_view_module": "@jupyter-widgets/base",
                        "_view_module_version": "1.2.0",
                        "_view_name": "LayoutView",
                        "align_content": null,
                        "align_items": null,
                        "align_self": null,
                        "border": null,
                        "bottom": null,
                        "display": null,
                        "flex": null,
                        "flex_flow": null,
                        "grid_area": null,
                        "grid_auto_columns": null,
                        "grid_auto_flow": null,
                        "grid_auto_rows": null,
                        "grid_column": null,
                        "grid_gap": null,
                        "grid_row": null,
                        "grid_template_areas": null,
                        "grid_template_columns": null,
                        "grid_template_rows": null,
                        "height": null,
                        "justify_content": null,
                        "justify_items": null,
                        "left": null,
                        "margin": null,
                        "max_height": null,
                        "max_width": null,
                        "min_height": null,
                        "min_width": null,
                        "object_fit": null,
                        "object_position": null,
                        "order": null,
                        "overflow": null,
                        "overflow_x": null,
                        "overflow_y": null,
                        "padding": null,
                        "right": null,
                        "top": null,
                        "visibility": null,
                        "width": null
                    }
                },
                "d55cfdb129a04217b236426077e59d5a": {
                    "model_module": "@jupyter-widgets/controls",
                    "model_module_version": "1.5.0",
                    "model_name": "FloatProgressModel",
                    "state": {
                        "_dom_classes": [],
                        "_model_module": "@jupyter-widgets/controls",
                        "_model_module_version": "1.5.0",
                        "_model_name": "FloatProgressModel",
                        "_view_count": null,
                        "_view_module": "@jupyter-widgets/controls",
                        "_view_module_version": "1.5.0",
                        "_view_name": "ProgressView",
                        "bar_style": "success",
                        "description": "",
                        "description_tooltip": null,
                        "layout": "IPY_MODEL_88ab1bf634ef48c1a7c062530783eb2e",
                        "max": 2,
                        "min": 0,
                        "orientation": "horizontal",
                        "style": "IPY_MODEL_5f400dd761f541fbad68a80fbfdbdfcb",
                        "value": 2
                    }
                },
                "d9a0803cde9d41289d4562ca591c3e62": {
                    "model_module": "@jupyter-widgets/base",
                    "model_module_version": "1.2.0",
                    "model_name": "LayoutModel",
                    "state": {
                        "_model_module": "@jupyter-widgets/base",
                        "_model_module_version": "1.2.0",
                        "_model_name": "LayoutModel",
                        "_view_count": null,
                        "_view_module": "@jupyter-widgets/base",
                        "_view_module_version": "1.2.0",
                        "_view_name": "LayoutView",
                        "align_content": null,
                        "align_items": null,
                        "align_self": null,
                        "border": null,
                        "bottom": null,
                        "display": null,
                        "flex": null,
                        "flex_flow": null,
                        "grid_area": null,
                        "grid_auto_columns": null,
                        "grid_auto_flow": null,
                        "grid_auto_rows": null,
                        "grid_column": null,
                        "grid_gap": null,
                        "grid_row": null,
                        "grid_template_areas": null,
                        "grid_template_columns": null,
                        "grid_template_rows": null,
                        "height": null,
                        "justify_content": null,
                        "justify_items": null,
                        "left": null,
                        "margin": null,
                        "max_height": null,
                        "max_width": null,
                        "min_height": null,
                        "min_width": null,
                        "object_fit": null,
                        "object_position": null,
                        "order": null,
                        "overflow": null,
                        "overflow_x": null,
                        "overflow_y": null,
                        "padding": null,
                        "right": null,
                        "top": null,
                        "visibility": null,
                        "width": null
                    }
                },
                "d9f68e0cf073460a9057a15265462832": {
                    "model_module": "@jupyter-widgets/controls",
                    "model_module_version": "1.5.0",
                    "model_name": "HBoxModel",
                    "state": {
                        "_dom_classes": [],
                        "_model_module": "@jupyter-widgets/controls",
                        "_model_module_version": "1.5.0",
                        "_model_name": "HBoxModel",
                        "_view_count": null,
                        "_view_module": "@jupyter-widgets/controls",
                        "_view_module_version": "1.5.0",
                        "_view_name": "HBoxView",
                        "box_style": "",
                        "children": [
                            "IPY_MODEL_82674221ba934264a771f33400f48355",
                            "IPY_MODEL_d55cfdb129a04217b236426077e59d5a",
                            "IPY_MODEL_801483308cca4385bdfda0af53a3c2dd"
                        ],
                        "layout": "IPY_MODEL_73efe6f9ec6341e3b4fa1a5d72b6089e"
                    }
                },
                "dfa935dfcc52466eae0ce086bb4be9b4": {
                    "model_module": "@jupyter-widgets/base",
                    "model_module_version": "1.2.0",
                    "model_name": "LayoutModel",
                    "state": {
                        "_model_module": "@jupyter-widgets/base",
                        "_model_module_version": "1.2.0",
                        "_model_name": "LayoutModel",
                        "_view_count": null,
                        "_view_module": "@jupyter-widgets/base",
                        "_view_module_version": "1.2.0",
                        "_view_name": "LayoutView",
                        "align_content": null,
                        "align_items": null,
                        "align_self": null,
                        "border": null,
                        "bottom": null,
                        "display": null,
                        "flex": null,
                        "flex_flow": null,
                        "grid_area": null,
                        "grid_auto_columns": null,
                        "grid_auto_flow": null,
                        "grid_auto_rows": null,
                        "grid_column": null,
                        "grid_gap": null,
                        "grid_row": null,
                        "grid_template_areas": null,
                        "grid_template_columns": null,
                        "grid_template_rows": null,
                        "height": null,
                        "justify_content": null,
                        "justify_items": null,
                        "left": null,
                        "margin": null,
                        "max_height": null,
                        "max_width": null,
                        "min_height": null,
                        "min_width": null,
                        "object_fit": null,
                        "object_position": null,
                        "order": null,
                        "overflow": null,
                        "overflow_x": null,
                        "overflow_y": null,
                        "padding": null,
                        "right": null,
                        "top": null,
                        "visibility": null,
                        "width": null
                    }
                },
                "e18fb366517a451c94624d9c8b865533": {
                    "model_module": "@jupyter-widgets/controls",
                    "model_module_version": "1.5.0",
                    "model_name": "DescriptionStyleModel",
                    "state": {
                        "_model_module": "@jupyter-widgets/controls",
                        "_model_module_version": "1.5.0",
                        "_model_name": "DescriptionStyleModel",
                        "_view_count": null,
                        "_view_module": "@jupyter-widgets/base",
                        "_view_module_version": "1.2.0",
                        "_view_name": "StyleView",
                        "description_width": ""
                    }
                },
                "e1e581eebe824f03a091502158de280d": {
                    "model_module": "@jupyter-widgets/base",
                    "model_module_version": "1.2.0",
                    "model_name": "LayoutModel",
                    "state": {
                        "_model_module": "@jupyter-widgets/base",
                        "_model_module_version": "1.2.0",
                        "_model_name": "LayoutModel",
                        "_view_count": null,
                        "_view_module": "@jupyter-widgets/base",
                        "_view_module_version": "1.2.0",
                        "_view_name": "LayoutView",
                        "align_content": null,
                        "align_items": null,
                        "align_self": null,
                        "border": null,
                        "bottom": null,
                        "display": null,
                        "flex": null,
                        "flex_flow": null,
                        "grid_area": null,
                        "grid_auto_columns": null,
                        "grid_auto_flow": null,
                        "grid_auto_rows": null,
                        "grid_column": null,
                        "grid_gap": null,
                        "grid_row": null,
                        "grid_template_areas": null,
                        "grid_template_columns": null,
                        "grid_template_rows": null,
                        "height": null,
                        "justify_content": null,
                        "justify_items": null,
                        "left": null,
                        "margin": null,
                        "max_height": null,
                        "max_width": null,
                        "min_height": null,
                        "min_width": null,
                        "object_fit": null,
                        "object_position": null,
                        "order": null,
                        "overflow": null,
                        "overflow_x": null,
                        "overflow_y": null,
                        "padding": null,
                        "right": null,
                        "top": null,
                        "visibility": null,
                        "width": null
                    }
                },
                "e539b644861d43298f7e532a314ae793": {
                    "model_module": "@jupyter-widgets/base",
                    "model_module_version": "1.2.0",
                    "model_name": "LayoutModel",
                    "state": {
                        "_model_module": "@jupyter-widgets/base",
                        "_model_module_version": "1.2.0",
                        "_model_name": "LayoutModel",
                        "_view_count": null,
                        "_view_module": "@jupyter-widgets/base",
                        "_view_module_version": "1.2.0",
                        "_view_name": "LayoutView",
                        "align_content": null,
                        "align_items": null,
                        "align_self": null,
                        "border": null,
                        "bottom": null,
                        "display": null,
                        "flex": null,
                        "flex_flow": null,
                        "grid_area": null,
                        "grid_auto_columns": null,
                        "grid_auto_flow": null,
                        "grid_auto_rows": null,
                        "grid_column": null,
                        "grid_gap": null,
                        "grid_row": null,
                        "grid_template_areas": null,
                        "grid_template_columns": null,
                        "grid_template_rows": null,
                        "height": null,
                        "justify_content": null,
                        "justify_items": null,
                        "left": null,
                        "margin": null,
                        "max_height": null,
                        "max_width": null,
                        "min_height": null,
                        "min_width": null,
                        "object_fit": null,
                        "object_position": null,
                        "order": null,
                        "overflow": null,
                        "overflow_x": null,
                        "overflow_y": null,
                        "padding": null,
                        "right": null,
                        "top": null,
                        "visibility": null,
                        "width": null
                    }
                },
                "e6b565f0b93a4ca98b0851050c8bb298": {
                    "model_module": "@jupyter-widgets/base",
                    "model_module_version": "1.2.0",
                    "model_name": "LayoutModel",
                    "state": {
                        "_model_module": "@jupyter-widgets/base",
                        "_model_module_version": "1.2.0",
                        "_model_name": "LayoutModel",
                        "_view_count": null,
                        "_view_module": "@jupyter-widgets/base",
                        "_view_module_version": "1.2.0",
                        "_view_name": "LayoutView",
                        "align_content": null,
                        "align_items": null,
                        "align_self": null,
                        "border": null,
                        "bottom": null,
                        "display": null,
                        "flex": null,
                        "flex_flow": null,
                        "grid_area": null,
                        "grid_auto_columns": null,
                        "grid_auto_flow": null,
                        "grid_auto_rows": null,
                        "grid_column": null,
                        "grid_gap": null,
                        "grid_row": null,
                        "grid_template_areas": null,
                        "grid_template_columns": null,
                        "grid_template_rows": null,
                        "height": null,
                        "justify_content": null,
                        "justify_items": null,
                        "left": null,
                        "margin": null,
                        "max_height": null,
                        "max_width": null,
                        "min_height": null,
                        "min_width": null,
                        "object_fit": null,
                        "object_position": null,
                        "order": null,
                        "overflow": null,
                        "overflow_x": null,
                        "overflow_y": null,
                        "padding": null,
                        "right": null,
                        "top": null,
                        "visibility": null,
                        "width": null
                    }
                },
                "ead64f9d0cc44ebaa9924c5fa5792e9e": {
                    "model_module": "@jupyter-widgets/controls",
                    "model_module_version": "1.5.0",
                    "model_name": "FloatProgressModel",
                    "state": {
                        "_dom_classes": [],
                        "_model_module": "@jupyter-widgets/controls",
                        "_model_module_version": "1.5.0",
                        "_model_name": "FloatProgressModel",
                        "_view_count": null,
                        "_view_module": "@jupyter-widgets/controls",
                        "_view_module_version": "1.5.0",
                        "_view_name": "ProgressView",
                        "bar_style": "success",
                        "description": "",
                        "description_tooltip": null,
                        "layout": "IPY_MODEL_a33edde3e06a4e1ab9f5292d9828bb88",
                        "max": 614936,
                        "min": 0,
                        "orientation": "horizontal",
                        "style": "IPY_MODEL_6fcb5098379b49738048131f0e4e309f",
                        "value": 614936
                    }
                },
                "ed0345a208a142dd9b077b31cd890478": {
                    "model_module": "@jupyter-widgets/controls",
                    "model_module_version": "1.5.0",
                    "model_name": "DescriptionStyleModel",
                    "state": {
                        "_model_module": "@jupyter-widgets/controls",
                        "_model_module_version": "1.5.0",
                        "_model_name": "DescriptionStyleModel",
                        "_view_count": null,
                        "_view_module": "@jupyter-widgets/base",
                        "_view_module_version": "1.2.0",
                        "_view_name": "StyleView",
                        "description_width": ""
                    }
                },
                "ed23e5abd0874ed08370f8ca2f67ac86": {
                    "model_module": "@jupyter-widgets/controls",
                    "model_module_version": "1.5.0",
                    "model_name": "FloatProgressModel",
                    "state": {
                        "_dom_classes": [],
                        "_model_module": "@jupyter-widgets/controls",
                        "_model_module_version": "1.5.0",
                        "_model_name": "FloatProgressModel",
                        "_view_count": null,
                        "_view_module": "@jupyter-widgets/controls",
                        "_view_module_version": "1.5.0",
                        "_view_name": "ProgressView",
                        "bar_style": "success",
                        "description": "",
                        "description_tooltip": null,
                        "layout": "IPY_MODEL_f1dc2afff2af44229be04dc43db5ab50",
                        "max": 577,
                        "min": 0,
                        "orientation": "horizontal",
                        "style": "IPY_MODEL_c2555aa5eb274eb985e6f254fc1f526d",
                        "value": 577
                    }
                },
                "f14a394f21e146a3bacf3ac5107bafb4": {
                    "model_module": "@jupyter-widgets/base",
                    "model_module_version": "1.2.0",
                    "model_name": "LayoutModel",
                    "state": {
                        "_model_module": "@jupyter-widgets/base",
                        "_model_module_version": "1.2.0",
                        "_model_name": "LayoutModel",
                        "_view_count": null,
                        "_view_module": "@jupyter-widgets/base",
                        "_view_module_version": "1.2.0",
                        "_view_name": "LayoutView",
                        "align_content": null,
                        "align_items": null,
                        "align_self": null,
                        "border": null,
                        "bottom": null,
                        "display": null,
                        "flex": null,
                        "flex_flow": null,
                        "grid_area": null,
                        "grid_auto_columns": null,
                        "grid_auto_flow": null,
                        "grid_auto_rows": null,
                        "grid_column": null,
                        "grid_gap": null,
                        "grid_row": null,
                        "grid_template_areas": null,
                        "grid_template_columns": null,
                        "grid_template_rows": null,
                        "height": null,
                        "justify_content": null,
                        "justify_items": null,
                        "left": null,
                        "margin": null,
                        "max_height": null,
                        "max_width": null,
                        "min_height": null,
                        "min_width": null,
                        "object_fit": null,
                        "object_position": null,
                        "order": null,
                        "overflow": null,
                        "overflow_x": null,
                        "overflow_y": null,
                        "padding": null,
                        "right": null,
                        "top": null,
                        "visibility": null,
                        "width": null
                    }
                },
                "f1dc2afff2af44229be04dc43db5ab50": {
                    "model_module": "@jupyter-widgets/base",
                    "model_module_version": "1.2.0",
                    "model_name": "LayoutModel",
                    "state": {
                        "_model_module": "@jupyter-widgets/base",
                        "_model_module_version": "1.2.0",
                        "_model_name": "LayoutModel",
                        "_view_count": null,
                        "_view_module": "@jupyter-widgets/base",
                        "_view_module_version": "1.2.0",
                        "_view_name": "LayoutView",
                        "align_content": null,
                        "align_items": null,
                        "align_self": null,
                        "border": null,
                        "bottom": null,
                        "display": null,
                        "flex": null,
                        "flex_flow": null,
                        "grid_area": null,
                        "grid_auto_columns": null,
                        "grid_auto_flow": null,
                        "grid_auto_rows": null,
                        "grid_column": null,
                        "grid_gap": null,
                        "grid_row": null,
                        "grid_template_areas": null,
                        "grid_template_columns": null,
                        "grid_template_rows": null,
                        "height": null,
                        "justify_content": null,
                        "justify_items": null,
                        "left": null,
                        "margin": null,
                        "max_height": null,
                        "max_width": null,
                        "min_height": null,
                        "min_width": null,
                        "object_fit": null,
                        "object_position": null,
                        "order": null,
                        "overflow": null,
                        "overflow_x": null,
                        "overflow_y": null,
                        "padding": null,
                        "right": null,
                        "top": null,
                        "visibility": null,
                        "width": null
                    }
                },
                "f3181fc8fe41466a99e5389554e95113": {
                    "model_module": "@jupyter-widgets/controls",
                    "model_module_version": "1.5.0",
                    "model_name": "FloatProgressModel",
                    "state": {
                        "_dom_classes": [],
                        "_model_module": "@jupyter-widgets/controls",
                        "_model_module_version": "1.5.0",
                        "_model_name": "FloatProgressModel",
                        "_view_count": null,
                        "_view_module": "@jupyter-widgets/controls",
                        "_view_module_version": "1.5.0",
                        "_view_name": "ProgressView",
                        "bar_style": "success",
                        "description": "",
                        "description_tooltip": null,
                        "layout": "IPY_MODEL_2943d456d9884f7fb532d1cf545eaf45",
                        "max": 1260,
                        "min": 0,
                        "orientation": "horizontal",
                        "style": "IPY_MODEL_735f73487e3f4b7c94a31b068c195bb7",
                        "value": 1260
                    }
                },
                "f98efab2cb64414c8823ad6a3e4a942b": {
                    "model_module": "@jupyter-widgets/controls",
                    "model_module_version": "1.5.0",
                    "model_name": "DescriptionStyleModel",
                    "state": {
                        "_model_module": "@jupyter-widgets/controls",
                        "_model_module_version": "1.5.0",
                        "_model_name": "DescriptionStyleModel",
                        "_view_count": null,
                        "_view_module": "@jupyter-widgets/base",
                        "_view_module_version": "1.2.0",
                        "_view_name": "StyleView",
                        "description_width": ""
                    }
                },
                "fe9b186a194b4c409337e5731c9ccd2b": {
                    "model_module": "@jupyter-widgets/base",
                    "model_module_version": "1.2.0",
                    "model_name": "LayoutModel",
                    "state": {
                        "_model_module": "@jupyter-widgets/base",
                        "_model_module_version": "1.2.0",
                        "_model_name": "LayoutModel",
                        "_view_count": null,
                        "_view_module": "@jupyter-widgets/base",
                        "_view_module_version": "1.2.0",
                        "_view_name": "LayoutView",
                        "align_content": null,
                        "align_items": null,
                        "align_self": null,
                        "border": null,
                        "bottom": null,
                        "display": null,
                        "flex": null,
                        "flex_flow": null,
                        "grid_area": null,
                        "grid_auto_columns": null,
                        "grid_auto_flow": null,
                        "grid_auto_rows": null,
                        "grid_column": null,
                        "grid_gap": null,
                        "grid_row": null,
                        "grid_template_areas": null,
                        "grid_template_columns": null,
                        "grid_template_rows": null,
                        "height": null,
                        "justify_content": null,
                        "justify_items": null,
                        "left": null,
                        "margin": null,
                        "max_height": null,
                        "max_width": null,
                        "min_height": null,
                        "min_width": null,
                        "object_fit": null,
                        "object_position": null,
                        "order": null,
                        "overflow": null,
                        "overflow_x": null,
                        "overflow_y": null,
                        "padding": null,
                        "right": null,
                        "top": null,
                        "visibility": null,
                        "width": null
                    }
                },
                "ff7be293b0914be8b5cfc40ea4831b7c": {
                    "model_module": "@jupyter-widgets/controls",
                    "model_module_version": "1.5.0",
                    "model_name": "HTMLModel",
                    "state": {
                        "_dom_classes": [],
                        "_model_module": "@jupyter-widgets/controls",
                        "_model_module_version": "1.5.0",
                        "_model_name": "HTMLModel",
                        "_view_count": null,
                        "_view_module": "@jupyter-widgets/controls",
                        "_view_module_version": "1.5.0",
                        "_view_name": "HTMLView",
                        "description": "",
                        "description_tooltip": null,
                        "layout": "IPY_MODEL_b3f76afc0b154f09b50332641caad632",
                        "placeholder": "​",
                        "style": "IPY_MODEL_a4740a1b11d34096ac87bec0abc50b1f",
                        "value": " 9.53k/9.53k [00:00&lt;00:00, 145kB/s]"
                    }
                }
            }
        }
    },
    "nbformat": 4,
    "nbformat_minor": 4
}